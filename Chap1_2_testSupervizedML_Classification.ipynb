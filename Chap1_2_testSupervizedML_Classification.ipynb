{
  "nbformat": 4,
  "nbformat_minor": 0,
  "metadata": {
    "colab": {
      "name": "Chap1-2-testSupervizedML-Classification.ipynb",
      "provenance": [],
      "authorship_tag": "ABX9TyOCpdDzICJ0Z43Qupr8qcF1",
      "include_colab_link": true
    },
    "kernelspec": {
      "name": "python3",
      "display_name": "Python 3"
    }
  },
  "cells": [
    {
      "cell_type": "markdown",
      "metadata": {
        "id": "view-in-github",
        "colab_type": "text"
      },
      "source": [
        "<a href=\"https://colab.research.google.com/github/zfukuoka/Training-KikaiGakusyuZukan/blob/master/Chap1_2_testSupervizedML_Classification.ipynb\" target=\"_parent\"><img src=\"https://colab.research.google.com/assets/colab-badge.svg\" alt=\"Open In Colab\"/></a>"
      ]
    },
    {
      "cell_type": "markdown",
      "metadata": {
        "id": "v4TtcQeiIhxt",
        "colab_type": "text"
      },
      "source": [
        "# 1.2 機械学習に必要なステップ\n",
        "\n",
        "## 教師あり学習（分類）の例\n",
        "\n",
        "ポイントは sklearn を用いてアメリカウィスコンシン州の乳がんデータを用いて教師あり学習（ロジスティック回帰）を動かすこと。\n",
        "\n",
        "以下、テキストに沿って幾つかのセルで分割して記載。\n",
        "\n",
        "* 変数 data にデータセットの読み込み"
      ]
    },
    {
      "cell_type": "code",
      "metadata": {
        "id": "OgLcI1JkIb70",
        "colab_type": "code",
        "colab": {}
      },
      "source": [
        "from sklearn.datasets import load_breast_cancer\n",
        "data = load_breast_cancer()\n"
      ],
      "execution_count": 0,
      "outputs": []
    },
    {
      "cell_type": "markdown",
      "metadata": {
        "id": "EHQQLBNzKMgZ",
        "colab_type": "text"
      },
      "source": [
        "* 特徴量を 変数Xに格納\n",
        "* 目的変数を 変数yに格納"
      ]
    },
    {
      "cell_type": "code",
      "metadata": {
        "id": "mnok16J6KEDn",
        "colab_type": "code",
        "colab": {}
      },
      "source": [
        "X = data.data\n",
        "y = data.target"
      ],
      "execution_count": 0,
      "outputs": []
    },
    {
      "cell_type": "markdown",
      "metadata": {
        "id": "-3afeiKIKm-x",
        "colab_type": "text"
      },
      "source": [
        "* 変数X には全体として569レコード（悪性212レコード、良性357レコード）あり、1レコードに30のデータがある\n",
        "  * 30のデータは10データ毎に、平均値、エラー値、最悪値に分かれている\n",
        "* 変数y には変数Xのレコード番号に対応した良性、悪性の結果が入っている\n",
        "\n",
        "* 今回は平均値のデータを用いて、学習するため、下記のように抽出\n"
      ]
    },
    {
      "cell_type": "code",
      "metadata": {
        "id": "k0icWKgLLvYm",
        "colab_type": "code",
        "colab": {}
      },
      "source": [
        "X = X[:, :10]\n"
      ],
      "execution_count": 0,
      "outputs": []
    }
  ]
}