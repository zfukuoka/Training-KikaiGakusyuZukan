{
  "nbformat": 4,
  "nbformat_minor": 0,
  "metadata": {
    "colab": {
      "name": "Chap1-2-testSupervizedML-Classification.ipynb",
      "provenance": [],
      "authorship_tag": "ABX9TyNaEZVs79h9Ao0X/aYfj9GI",
      "include_colab_link": true
    },
    "kernelspec": {
      "name": "python3",
      "display_name": "Python 3"
    }
  },
  "cells": [
    {
      "cell_type": "markdown",
      "metadata": {
        "id": "view-in-github",
        "colab_type": "text"
      },
      "source": [
        "<a href=\"https://colab.research.google.com/github/zfukuoka/Training-KikaiGakusyuZukan/blob/master/Chap1_2_testSupervizedML_Classification.ipynb\" target=\"_parent\"><img src=\"https://colab.research.google.com/assets/colab-badge.svg\" alt=\"Open In Colab\"/></a>"
      ]
    },
    {
      "cell_type": "markdown",
      "metadata": {
        "id": "v4TtcQeiIhxt"
      },
      "source": [
        "# 1.2 機械学習に必要なステップ\n",
        "\n",
        "## 教師あり学習（分類）の例\n",
        "\n",
        "ポイントは sklearn を用いてアメリカウィスコンシン州の乳がんデータを用いて教師あり学習（ロジスティック回帰）を動かすこと。\n",
        "\n",
        "以下、テキストに沿って幾つかのセルで分割して記載。\n",
        "\n",
        "* 変数 data にデータセットの読み込み"
      ]
    },
    {
      "cell_type": "code",
      "metadata": {
        "id": "OgLcI1JkIb70"
      },
      "source": [
        "from sklearn.datasets import load_breast_cancer\n",
        "data = load_breast_cancer()\n"
      ],
      "execution_count": 1,
      "outputs": []
    },
    {
      "cell_type": "markdown",
      "metadata": {
        "id": "EHQQLBNzKMgZ"
      },
      "source": [
        "* 特徴量を 変数Xに格納\n",
        "* 目的変数を 変数yに格納"
      ]
    },
    {
      "cell_type": "code",
      "metadata": {
        "id": "mnok16J6KEDn"
      },
      "source": [
        "X = data.data\n",
        "y = data.target"
      ],
      "execution_count": 2,
      "outputs": []
    },
    {
      "cell_type": "code",
      "metadata": {
        "id": "AfMN3r6R7WA9",
        "outputId": "b4428047-290f-4190-88dd-ef35d4ac3fd4",
        "colab": {
          "base_uri": "https://localhost:8080/"
        }
      },
      "source": [
        "## テキストにはないが、コードを理解するための補足用出力\n",
        "# Xとyの型確認\n",
        "print(type(X))\n",
        "print(type(y))\n",
        "\n",
        "# Xとyのレコード数とフィールド数を確認\n",
        "print(X.shape)\n",
        "print(y.shape)\n",
        "\n",
        "# yには悪性と良性の振り分けがあるはずなので、各々の値とレコード数を確認\n",
        "print(y.max())\n",
        "print(y.min())\n",
        "print(y[y==1].shape)\n",
        "print(y[y==0].shape)"
      ],
      "execution_count": 3,
      "outputs": [
        {
          "output_type": "stream",
          "text": [
            "<class 'numpy.ndarray'>\n",
            "<class 'numpy.ndarray'>\n",
            "(569, 30)\n",
            "(569,)\n",
            "1\n",
            "0\n",
            "(357,)\n",
            "(212,)\n"
          ],
          "name": "stdout"
        }
      ]
    },
    {
      "cell_type": "markdown",
      "metadata": {
        "id": "-3afeiKIKm-x"
      },
      "source": [
        "* 変数X には全体として569レコード（悪性212レコード、良性357レコード）あり、1レコードに30のデータがある\n",
        "  * 30のデータは10データ毎に、平均値、エラー値、最悪値に分かれている\n",
        "* 変数y には変数Xのレコード番号に対応した良性、悪性の結果が入っている\n",
        "\n",
        "* 今回は平均値のデータを用いて、学習するため、下記のように抽出\n"
      ]
    },
    {
      "cell_type": "code",
      "metadata": {
        "id": "k0icWKgLLvYm"
      },
      "source": [
        "X = X[:, :10]"
      ],
      "execution_count": 4,
      "outputs": []
    },
    {
      "cell_type": "code",
      "metadata": {
        "id": "kmrrcr__EuFl",
        "outputId": "9b5b3605-acc9-4972-9a58-5f43d7930071",
        "colab": {
          "base_uri": "https://localhost:8080/"
        }
      },
      "source": [
        "## テキストにはないが、コードを理解するための補足用出力\n",
        "# Xが30フィールドから10フィールドに減らされていることを確認\n",
        "print(X.shape)"
      ],
      "execution_count": 5,
      "outputs": [
        {
          "output_type": "stream",
          "text": [
            "(569, 10)\n"
          ],
          "name": "stdout"
        }
      ]
    },
    {
      "cell_type": "markdown",
      "metadata": {
        "id": "nPFt_tSUgPYv"
      },
      "source": [
        "## 実装方法\n",
        "\n",
        "ここで用いるロジスティック回帰は第2章の図鑑番号３：ロジスティック回帰を参照のこと\n",
        "\n",
        "* scikit-learn の LogisticRegression クラスをインポートして、インスタンスを生成して変数 model に初期化したモデルを代入\n"
      ]
    },
    {
      "cell_type": "code",
      "metadata": {
        "id": "i1xLhJ7Dggf-"
      },
      "source": [
        "from sklearn.linear_model import LogisticRegression\n",
        "model = LogisticRegression()"
      ],
      "execution_count": 6,
      "outputs": []
    },
    {
      "cell_type": "markdown",
      "metadata": {
        "id": "D5K-Xk1dhaNO"
      },
      "source": [
        "* fit() を呼び出し、変数model が学習済みモデルになる"
      ]
    },
    {
      "cell_type": "code",
      "metadata": {
        "id": "0HfyVM-5hjuA",
        "colab": {
          "base_uri": "https://localhost:8080/"
        },
        "outputId": "6608de68-0d81-4097-aef5-45e85e1a2cd0"
      },
      "source": [
        "model.fit(X, y)"
      ],
      "execution_count": 7,
      "outputs": [
        {
          "output_type": "execute_result",
          "data": {
            "text/plain": [
              "LogisticRegression(C=1.0, class_weight=None, dual=False, fit_intercept=True,\n",
              "                   intercept_scaling=1, l1_ratio=None, max_iter=100,\n",
              "                   multi_class='auto', n_jobs=None, penalty='l2',\n",
              "                   random_state=None, solver='lbfgs', tol=0.0001, verbose=0,\n",
              "                   warm_start=False)"
            ]
          },
          "metadata": {
            "tags": []
          },
          "execution_count": 7
        }
      ]
    },
    {
      "cell_type": "markdown",
      "metadata": {
        "id": "VKxUdO_hhyV8"
      },
      "source": [
        "* 下記は学習モデルで予測して、結果を 変数y_pred に代入を行っている\n",
        "  * **注意：本来は学習データである変数X を使って予測することのは誤り**"
      ]
    },
    {
      "cell_type": "code",
      "metadata": {
        "id": "gCTH5kjDiQGA"
      },
      "source": [
        "y_pred = model.predict(X)"
      ],
      "execution_count": 8,
      "outputs": []
    },
    {
      "cell_type": "markdown",
      "metadata": {
        "id": "ziifNCtqiVLM"
      },
      "source": [
        "## 評価方法\n",
        "\n",
        "* scikit-learn の accuracy_score() を用いると、正解率を確認できる\n",
        "  * 正解率は第4章を参照のこと（たしか、JDLA のG検定でもでてきたところ）\n",
        "\n"
      ]
    },
    {
      "cell_type": "code",
      "metadata": {
        "id": "cWcmeOuijA6l",
        "colab": {
          "base_uri": "https://localhost:8080/"
        },
        "outputId": "57f4bab7-e8ed-4145-b0cc-78e263f37df6"
      },
      "source": [
        "from sklearn.metrics import accuracy_score\n",
        "accuracy_score(y, y_pred)"
      ],
      "execution_count": 9,
      "outputs": [
        {
          "output_type": "execute_result",
          "data": {
            "text/plain": [
              "0.9121265377855887"
            ]
          },
          "metadata": {
            "tags": []
          },
          "execution_count": 9
        }
      ]
    }
  ]
}