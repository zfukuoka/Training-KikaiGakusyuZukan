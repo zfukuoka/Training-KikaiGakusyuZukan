{
  "nbformat": 4,
  "nbformat_minor": 0,
  "metadata": {
    "colab": {
      "name": "Chap1-2-testSupervizedML-Classification.ipynb",
      "provenance": [],
      "authorship_tag": "ABX9TyO7OfBf38q+w6Qf06n3czAS",
      "include_colab_link": true
    },
    "kernelspec": {
      "name": "python3",
      "display_name": "Python 3"
    }
  },
  "cells": [
    {
      "cell_type": "markdown",
      "metadata": {
        "id": "view-in-github",
        "colab_type": "text"
      },
      "source": [
        "<a href=\"https://colab.research.google.com/github/zfukuoka/Training-KikaiGakusyuZukan/blob/master/Chap1_2_testSupervizedML_Classification.ipynb\" target=\"_parent\"><img src=\"https://colab.research.google.com/assets/colab-badge.svg\" alt=\"Open In Colab\"/></a>"
      ]
    },
    {
      "cell_type": "markdown",
      "metadata": {
        "id": "v4TtcQeiIhxt",
        "colab_type": "text"
      },
      "source": [
        "# 1.2 機械学習に必要なステップ\n",
        "\n",
        "## 教師あり学習（分類）の例\n",
        "\n",
        "ポイントは sklearn を用いてアメリカウィスコンシン州の乳がんデータを用いて教師あり学習（ロジスティック回帰）を動かすこと。\n",
        "\n",
        "以下、テキストに沿って幾つかのセルで分割して記載。\n",
        "\n",
        "* 変数 data にデータセットの読み込み"
      ]
    },
    {
      "cell_type": "code",
      "metadata": {
        "id": "OgLcI1JkIb70",
        "colab_type": "code",
        "colab": {}
      },
      "source": [
        "from sklearn.datasets import load_breast_cancer\n",
        "data = load_breast_cancer()\n"
      ],
      "execution_count": 0,
      "outputs": []
    },
    {
      "cell_type": "markdown",
      "metadata": {
        "id": "EHQQLBNzKMgZ",
        "colab_type": "text"
      },
      "source": [
        "* 特徴量を 変数Xに格納\n",
        "* 目的変数を 変数yに格納"
      ]
    },
    {
      "cell_type": "code",
      "metadata": {
        "id": "mnok16J6KEDn",
        "colab_type": "code",
        "colab": {}
      },
      "source": [
        "X = data.data\n",
        "y = data.target"
      ],
      "execution_count": 0,
      "outputs": []
    },
    {
      "cell_type": "markdown",
      "metadata": {
        "id": "-3afeiKIKm-x",
        "colab_type": "text"
      },
      "source": [
        "* 変数X には全体として569レコード（悪性212レコード、良性357レコード）あり、1レコードに30のデータがある\n",
        "  * 30のデータは10データ毎に、平均値、エラー値、最悪値に分かれている\n",
        "* 変数y には変数Xのレコード番号に対応した良性、悪性の結果が入っている\n",
        "\n",
        "* 今回は平均値のデータを用いて、学習するため、下記のように抽出\n"
      ]
    },
    {
      "cell_type": "code",
      "metadata": {
        "id": "k0icWKgLLvYm",
        "colab_type": "code",
        "colab": {}
      },
      "source": [
        "X = X[:, :10]\n"
      ],
      "execution_count": 0,
      "outputs": []
    },
    {
      "cell_type": "markdown",
      "metadata": {
        "id": "nPFt_tSUgPYv",
        "colab_type": "text"
      },
      "source": [
        "## 実装方法\n",
        "\n",
        "ここで用いるロジスティック回帰は第2章の図鑑番号３：ロジスティック回帰を参照のこと\n",
        "\n",
        "* scikit-learn の LogisticRegression クラスをインポートして、インスタンスを生成して変数 model に初期化したモデルを代入\n"
      ]
    },
    {
      "cell_type": "code",
      "metadata": {
        "id": "i1xLhJ7Dggf-",
        "colab_type": "code",
        "colab": {}
      },
      "source": [
        "from sklearn.linear_model import LogisticRegression\n",
        "model = LogisticRegression()\n",
        "\n"
      ],
      "execution_count": 0,
      "outputs": []
    },
    {
      "cell_type": "markdown",
      "metadata": {
        "id": "D5K-Xk1dhaNO",
        "colab_type": "text"
      },
      "source": [
        "* fit() を呼び出し、変数model が学習済みモデルになる"
      ]
    },
    {
      "cell_type": "code",
      "metadata": {
        "id": "0HfyVM-5hjuA",
        "colab_type": "code",
        "colab": {
          "base_uri": "https://localhost:8080/",
          "height": 102
        },
        "outputId": "12a5f71c-fdf3-4b1f-ab78-3719e1a03e23"
      },
      "source": [
        "model.fit(X, y)"
      ],
      "execution_count": 6,
      "outputs": [
        {
          "output_type": "execute_result",
          "data": {
            "text/plain": [
              "LogisticRegression(C=1.0, class_weight=None, dual=False, fit_intercept=True,\n",
              "                   intercept_scaling=1, l1_ratio=None, max_iter=100,\n",
              "                   multi_class='auto', n_jobs=None, penalty='l2',\n",
              "                   random_state=None, solver='lbfgs', tol=0.0001, verbose=0,\n",
              "                   warm_start=False)"
            ]
          },
          "metadata": {
            "tags": []
          },
          "execution_count": 6
        }
      ]
    },
    {
      "cell_type": "markdown",
      "metadata": {
        "id": "VKxUdO_hhyV8",
        "colab_type": "text"
      },
      "source": [
        "* 下記は学習モデルで予測して、結果を 変数y_pred に代入を行っている\n",
        "  * **注意：本来は学習データである変数X を使って予測することのは誤り**"
      ]
    },
    {
      "cell_type": "code",
      "metadata": {
        "id": "gCTH5kjDiQGA",
        "colab_type": "code",
        "colab": {}
      },
      "source": [
        "y_pred = model.predict(X)\n"
      ],
      "execution_count": 0,
      "outputs": []
    },
    {
      "cell_type": "markdown",
      "metadata": {
        "id": "ziifNCtqiVLM",
        "colab_type": "text"
      },
      "source": [
        "## 評価方法\n",
        "\n",
        "* scikit-learn の accuracy_score() を用いると、正解率を確認できる\n",
        "  * 正解率は第4章を参照のこと（たしか、JDLA の試験でもでてきたところ）\n",
        "\n"
      ]
    },
    {
      "cell_type": "code",
      "metadata": {
        "id": "cWcmeOuijA6l",
        "colab_type": "code",
        "colab": {
          "base_uri": "https://localhost:8080/",
          "height": 34
        },
        "outputId": "0e3d4987-da10-48b1-e848-c8a9a848576e"
      },
      "source": [
        "from sklearn.metrics import accuracy_score\n",
        "accuracy_score(y, y_pred)\n"
      ],
      "execution_count": 8,
      "outputs": [
        {
          "output_type": "execute_result",
          "data": {
            "text/plain": [
              "0.9121265377855887"
            ]
          },
          "metadata": {
            "tags": []
          },
          "execution_count": 8
        }
      ]
    }
  ]
}