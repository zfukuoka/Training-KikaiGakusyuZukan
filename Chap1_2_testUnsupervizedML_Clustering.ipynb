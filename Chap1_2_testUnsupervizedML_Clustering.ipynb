{
  "nbformat": 4,
  "nbformat_minor": 0,
  "metadata": {
    "colab": {
      "name": "Chap1-2-testUnsupervizedML-Clustering.ipynb",
      "provenance": [],
      "authorship_tag": "ABX9TyN+txOQ7b6qpLl8lFOn02tW",
      "include_colab_link": true
    },
    "kernelspec": {
      "name": "python3",
      "display_name": "Python 3"
    }
  },
  "cells": [
    {
      "cell_type": "markdown",
      "metadata": {
        "id": "view-in-github",
        "colab_type": "text"
      },
      "source": [
        "<a href=\"https://colab.research.google.com/github/zfukuoka/Training-KikaiGakusyuZukan/blob/master/Chap1_2_testUnsupervizedML_Clustering.ipynb\" target=\"_parent\"><img src=\"https://colab.research.google.com/assets/colab-badge.svg\" alt=\"Open In Colab\"/></a>"
      ]
    },
    {
      "cell_type": "markdown",
      "metadata": {
        "id": "VnpLp6bYjqgv",
        "colab_type": "text"
      },
      "source": [
        "# 1.2 機械学習に必要なステップ\n",
        "\n",
        "## 教師なし学習（クラスタリングの例）\n",
        "\n",
        "* k-means法というアルゴリズムを適用して、ワインのアルコール度数と色彩の強さという2つの特徴量から、3つのクラスタに分割\n",
        "\n",
        "### 例題\n",
        "\n",
        "* sklearn からワインのデータをインポート"
      ]
    },
    {
      "cell_type": "code",
      "metadata": {
        "id": "xNw33aV6jpto",
        "colab_type": "code",
        "colab": {}
      },
      "source": [
        "from sklearn.datasets import load_wine\n",
        "data = load_wine()\n"
      ],
      "execution_count": 0,
      "outputs": []
    },
    {
      "cell_type": "markdown",
      "metadata": {
        "id": "wCs0ofZpk-L-",
        "colab_type": "text"
      },
      "source": [
        "* ワインのデータセットの0 と 9番目の列に alcohol列とcolor_intensity列があるので抽出"
      ]
    },
    {
      "cell_type": "code",
      "metadata": {
        "id": "0Kqw5C_QlXff",
        "colab_type": "code",
        "colab": {
          "base_uri": "https://localhost:8080/",
          "height": 34
        },
        "outputId": "e5217e34-bc80-40e3-8dc7-8b135586d8fc"
      },
      "source": [
        "X = data.data[:, [0, 9]]\n",
        "print(X.shape)"
      ],
      "execution_count": 5,
      "outputs": [
        {
          "output_type": "stream",
          "text": [
            "(178, 2)\n"
          ],
          "name": "stdout"
        }
      ]
    },
    {
      "cell_type": "markdown",
      "metadata": {
        "id": "INg0sukim27Q",
        "colab_type": "text"
      },
      "source": [
        "## 実装方法\n",
        "\n",
        "* k-means法アルゴリズムの実装KMeansクラスをインポート\n",
        "* 3つのクラスタに分けるので、 変数n_clusters に３を代入\n",
        "* インスタンス生成してに初期状態のモデルを 変数model に代入"
      ]
    },
    {
      "cell_type": "code",
      "metadata": {
        "id": "RlBsrxTrnORN",
        "colab_type": "code",
        "colab": {}
      },
      "source": [
        "from sklearn.cluster import KMeans\n",
        "n_clusters = 3\n",
        "model = KMeans(n_clusters=n_clusters)\n"
      ],
      "execution_count": 0,
      "outputs": []
    },
    {
      "cell_type": "markdown",
      "metadata": {
        "id": "ZQyoKjD2ntit",
        "colab_type": "text"
      },
      "source": [
        "* fit_predict() を用いて、学習を行うと同時に予測も行う。結果は 変数pred に代入"
      ]
    },
    {
      "cell_type": "code",
      "metadata": {
        "id": "hzXI06Q3n7vE",
        "colab_type": "code",
        "colab": {}
      },
      "source": [
        "pred = model.fit_predict(X)\n"
      ],
      "execution_count": 0,
      "outputs": []
    },
    {
      "cell_type": "markdown",
      "metadata": {
        "id": "yeQ-b5-DoARn",
        "colab_type": "text"
      },
      "source": [
        "## 結果の確認\n",
        "\n",
        "* テキストでは、3つのクラスタに分けた状態の色分けプロットが図示されていたが、対応するコードは存在していないのでどのように実現するかは不明\n",
        "* テキストではこの後に matplotlib を用いた図示の参考用コードが列挙されていたが、今の自分には不要なので割愛"
      ]
    },
    {
      "cell_type": "code",
      "metadata": {
        "id": "XdKJl1HUoamQ",
        "colab_type": "code",
        "colab": {
          "base_uri": "https://localhost:8080/",
          "height": 34
        },
        "outputId": "2f94aa4d-6db7-4da2-fdcc-322621313b16"
      },
      "source": [
        "print(pred.shape)"
      ],
      "execution_count": 8,
      "outputs": [
        {
          "output_type": "stream",
          "text": [
            "(178,)\n"
          ],
          "name": "stdout"
        }
      ]
    }
  ]
}