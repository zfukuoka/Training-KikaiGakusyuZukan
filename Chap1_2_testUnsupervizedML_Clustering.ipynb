{
  "nbformat": 4,
  "nbformat_minor": 0,
  "metadata": {
    "colab": {
      "name": "Chap1-2-testUnsupervizedML-Clustering.ipynb",
      "provenance": [],
      "authorship_tag": "ABX9TyOR+pUWpTiMFA3bNUaE9yHb",
      "include_colab_link": true
    },
    "kernelspec": {
      "name": "python3",
      "display_name": "Python 3"
    }
  },
  "cells": [
    {
      "cell_type": "markdown",
      "metadata": {
        "id": "view-in-github",
        "colab_type": "text"
      },
      "source": [
        "<a href=\"https://colab.research.google.com/github/zfukuoka/Training-KikaiGakusyuZukan/blob/master/Chap1_2_testUnsupervizedML_Clustering.ipynb\" target=\"_parent\"><img src=\"https://colab.research.google.com/assets/colab-badge.svg\" alt=\"Open In Colab\"/></a>"
      ]
    },
    {
      "cell_type": "markdown",
      "metadata": {
        "id": "VnpLp6bYjqgv"
      },
      "source": [
        "# 1.2 機械学習に必要なステップ\n",
        "\n",
        "## 教師なし学習（クラスタリングの例）\n",
        "\n",
        "* k-means法というアルゴリズムを適用して、ワインのアルコール度数と色彩の強さという2つの特徴量から、3つのクラスタに分割\n",
        "\n",
        "### 例題\n",
        "\n",
        "* sklearn からワインのデータをインポート"
      ]
    },
    {
      "cell_type": "code",
      "metadata": {
        "id": "xNw33aV6jpto"
      },
      "source": [
        "from sklearn.datasets import load_wine\n",
        "data = load_wine()"
      ],
      "execution_count": 1,
      "outputs": []
    },
    {
      "cell_type": "markdown",
      "metadata": {
        "id": "wCs0ofZpk-L-"
      },
      "source": [
        "* ワインのデータセットの0 と 9番目の列に alcohol列とcolor_intensity列があるので抽出"
      ]
    },
    {
      "cell_type": "code",
      "metadata": {
        "id": "0Kqw5C_QlXff",
        "colab": {
          "base_uri": "https://localhost:8080/"
        },
        "outputId": "c9e143bd-aa86-42bd-8de9-81ad1d221424"
      },
      "source": [
        "X = data.data[:, [0, 9]]\n",
        "print(X.shape)"
      ],
      "execution_count": 2,
      "outputs": [
        {
          "output_type": "stream",
          "text": [
            "(178, 2)\n"
          ],
          "name": "stdout"
        }
      ]
    },
    {
      "cell_type": "markdown",
      "metadata": {
        "id": "INg0sukim27Q"
      },
      "source": [
        "## 実装方法\n",
        "\n",
        "* k-means法アルゴリズムの実装KMeansクラスをインポート\n",
        "* 3つのクラスタに分けるので、 変数n_clusters に３を代入\n",
        "* インスタンス生成してに初期状態のモデルを 変数model に代入"
      ]
    },
    {
      "cell_type": "code",
      "metadata": {
        "id": "RlBsrxTrnORN"
      },
      "source": [
        "from sklearn.cluster import KMeans\n",
        "n_clusters = 3\n",
        "model = KMeans(n_clusters=n_clusters)"
      ],
      "execution_count": 3,
      "outputs": []
    },
    {
      "cell_type": "markdown",
      "metadata": {
        "id": "ZQyoKjD2ntit"
      },
      "source": [
        "* fit_predict() を用いて、学習を行うと同時に予測も行う。結果は 変数pred に代入"
      ]
    },
    {
      "cell_type": "code",
      "metadata": {
        "id": "hzXI06Q3n7vE"
      },
      "source": [
        "pred = model.fit_predict(X)"
      ],
      "execution_count": 4,
      "outputs": []
    },
    {
      "cell_type": "markdown",
      "metadata": {
        "id": "yeQ-b5-DoARn"
      },
      "source": [
        "## 結果の確認\n",
        "\n",
        "* テキストでは、3つのクラスタに分けた状態の色分けプロットが図示されていたが、対応するコードは存在していないのでどのように実現するかは不明\n",
        "* テキストではこの後に matplotlib を用いた図示の参考用コードが列挙されていたが、今の自分には不要なので割愛"
      ]
    },
    {
      "cell_type": "code",
      "metadata": {
        "id": "XdKJl1HUoamQ",
        "colab": {
          "base_uri": "https://localhost:8080/",
          "height": 1000
        },
        "outputId": "f9e869f3-113f-43b4-899c-541b90d87917"
      },
      "source": [
        "## テキストにはないが、コードを理解するための補足用出力\n",
        "\n",
        "# predの中の状態を表示\n",
        "import numpy as np\n",
        "print(type(pred))\n",
        "print(pred.shape)\n",
        "print(pred.max())\n",
        "print(pred.min())\n",
        "\n",
        "# print(X[np.where(pred==0)])\n",
        "# print(X[np.where(pred==0)].shape)\n",
        "# print(X[np.where(pred==1)].shape)\n",
        "# print(X[np.where(pred==2)].shape)\n",
        "\n",
        "# 3つのクラスタにどう分けられたのかをプロット\n",
        "import matplotlib.pyplot as plt\n",
        "root_fig = plt.figure(figsize=(20,10))\n",
        "image_plot = root_fig.add_subplot(1, 1, 1)\n",
        "image_plot.plot(\n",
        "    X[np.where(pred==0),0],\n",
        "    X[np.where(pred==0),1],\n",
        "    \"ob\"\n",
        ")\n",
        "image_plot.plot(\n",
        "    X[np.where(pred==1),0],\n",
        "    X[np.where(pred==1),1],\n",
        "    \"or\"\n",
        ")\n",
        "image_plot.plot(\n",
        "    X[np.where(pred==2),0],\n",
        "    X[np.where(pred==2),1],\n",
        "    \"og\"\n",
        ")"
      ],
      "execution_count": 5,
      "outputs": [
        {
          "output_type": "stream",
          "text": [
            "<class 'numpy.ndarray'>\n",
            "(178,)\n",
            "2\n",
            "0\n"
          ],
          "name": "stdout"
        },
        {
          "output_type": "execute_result",
          "data": {
            "text/plain": [
              "[<matplotlib.lines.Line2D at 0x7f8da5582b90>,\n",
              " <matplotlib.lines.Line2D at 0x7f8da55d9b50>,\n",
              " <matplotlib.lines.Line2D at 0x7f8da5582ed0>,\n",
              " <matplotlib.lines.Line2D at 0x7f8da558b310>,\n",
              " <matplotlib.lines.Line2D at 0x7f8da558b4d0>,\n",
              " <matplotlib.lines.Line2D at 0x7f8da558b450>,\n",
              " <matplotlib.lines.Line2D at 0x7f8da558b890>,\n",
              " <matplotlib.lines.Line2D at 0x7f8da558ba50>,\n",
              " <matplotlib.lines.Line2D at 0x7f8da558bc10>,\n",
              " <matplotlib.lines.Line2D at 0x7f8da558b690>,\n",
              " <matplotlib.lines.Line2D at 0x7f8da558bf50>,\n",
              " <matplotlib.lines.Line2D at 0x7f8da558bed0>,\n",
              " <matplotlib.lines.Line2D at 0x7f8da550f310>,\n",
              " <matplotlib.lines.Line2D at 0x7f8da550f4d0>,\n",
              " <matplotlib.lines.Line2D at 0x7f8da550f690>,\n",
              " <matplotlib.lines.Line2D at 0x7f8da550f850>,\n",
              " <matplotlib.lines.Line2D at 0x7f8da550fa10>,\n",
              " <matplotlib.lines.Line2D at 0x7f8da550fbd0>,\n",
              " <matplotlib.lines.Line2D at 0x7f8da550fd90>,\n",
              " <matplotlib.lines.Line2D at 0x7f8da550ff50>,\n",
              " <matplotlib.lines.Line2D at 0x7f8da550fed0>,\n",
              " <matplotlib.lines.Line2D at 0x7f8da5513310>,\n",
              " <matplotlib.lines.Line2D at 0x7f8da55134d0>,\n",
              " <matplotlib.lines.Line2D at 0x7f8da5513690>,\n",
              " <matplotlib.lines.Line2D at 0x7f8da5513850>,\n",
              " <matplotlib.lines.Line2D at 0x7f8da5513a10>,\n",
              " <matplotlib.lines.Line2D at 0x7f8da5513bd0>,\n",
              " <matplotlib.lines.Line2D at 0x7f8da5513d90>,\n",
              " <matplotlib.lines.Line2D at 0x7f8da5513f50>,\n",
              " <matplotlib.lines.Line2D at 0x7f8da5513ed0>,\n",
              " <matplotlib.lines.Line2D at 0x7f8da5517310>,\n",
              " <matplotlib.lines.Line2D at 0x7f8da55174d0>,\n",
              " <matplotlib.lines.Line2D at 0x7f8da5517690>,\n",
              " <matplotlib.lines.Line2D at 0x7f8da5517850>,\n",
              " <matplotlib.lines.Line2D at 0x7f8da5517a10>,\n",
              " <matplotlib.lines.Line2D at 0x7f8da5517bd0>,\n",
              " <matplotlib.lines.Line2D at 0x7f8da5517d90>,\n",
              " <matplotlib.lines.Line2D at 0x7f8da5517f50>,\n",
              " <matplotlib.lines.Line2D at 0x7f8da5517ed0>,\n",
              " <matplotlib.lines.Line2D at 0x7f8da551c310>,\n",
              " <matplotlib.lines.Line2D at 0x7f8da551c4d0>,\n",
              " <matplotlib.lines.Line2D at 0x7f8da551c690>,\n",
              " <matplotlib.lines.Line2D at 0x7f8da551c850>,\n",
              " <matplotlib.lines.Line2D at 0x7f8da551ca10>,\n",
              " <matplotlib.lines.Line2D at 0x7f8da551cbd0>,\n",
              " <matplotlib.lines.Line2D at 0x7f8da551cd90>,\n",
              " <matplotlib.lines.Line2D at 0x7f8da551cf50>,\n",
              " <matplotlib.lines.Line2D at 0x7f8da551ced0>,\n",
              " <matplotlib.lines.Line2D at 0x7f8da5521310>,\n",
              " <matplotlib.lines.Line2D at 0x7f8da55214d0>,\n",
              " <matplotlib.lines.Line2D at 0x7f8da5521690>,\n",
              " <matplotlib.lines.Line2D at 0x7f8da5521850>,\n",
              " <matplotlib.lines.Line2D at 0x7f8da5521a10>,\n",
              " <matplotlib.lines.Line2D at 0x7f8da5521bd0>,\n",
              " <matplotlib.lines.Line2D at 0x7f8da5521d90>,\n",
              " <matplotlib.lines.Line2D at 0x7f8da5521f50>,\n",
              " <matplotlib.lines.Line2D at 0x7f8da5521ed0>,\n",
              " <matplotlib.lines.Line2D at 0x7f8da5525310>,\n",
              " <matplotlib.lines.Line2D at 0x7f8da55254d0>,\n",
              " <matplotlib.lines.Line2D at 0x7f8da5525690>,\n",
              " <matplotlib.lines.Line2D at 0x7f8da5525850>,\n",
              " <matplotlib.lines.Line2D at 0x7f8da5525a10>,\n",
              " <matplotlib.lines.Line2D at 0x7f8da5525bd0>,\n",
              " <matplotlib.lines.Line2D at 0x7f8da5525d90>,\n",
              " <matplotlib.lines.Line2D at 0x7f8da5525f50>]"
            ]
          },
          "metadata": {
            "tags": []
          },
          "execution_count": 5
        },
        {
          "output_type": "display_data",
          "data": {
            "image/png": "[encoded data removed]",
            "text/plain": [
              "<Figure size 1440x720 with 1 Axes>"
            ]
          },
          "metadata": {
            "tags": [],
            "needs_background": "light"
          }
        }
      ]
    }
  ]
}