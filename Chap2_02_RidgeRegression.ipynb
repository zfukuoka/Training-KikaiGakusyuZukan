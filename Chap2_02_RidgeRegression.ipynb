{
  "nbformat": 4,
  "nbformat_minor": 0,
  "metadata": {
    "colab": {
      "name": "Chap2_02_RidgeRegression.ipynb",
      "provenance": [],
      "authorship_tag": "ABX9TyPEaKO7W/eU6J+dqJkulpK+",
      "include_colab_link": true
    },
    "kernelspec": {
      "name": "python3",
      "display_name": "Python 3"
    }
  },
  "cells": [
    {
      "cell_type": "markdown",
      "metadata": {
        "id": "view-in-github",
        "colab_type": "text"
      },
      "source": [
        "<a href=\"https://colab.research.google.com/github/zfukuoka/Training-KikaiGakusyuZukan/blob/master/Chap2_02_RidgeRegression.ipynb\" target=\"_parent\"><img src=\"https://colab.research.google.com/assets/colab-badge.svg\" alt=\"Open In Colab\"/></a>"
      ]
    },
    {
      "cell_type": "markdown",
      "metadata": {
        "id": "cF-onuV8stUw"
      },
      "source": [
        "# 第２章  教師あり学習\n",
        "\n",
        "## 02 正則化\n",
        "\n",
        "ポイント\n",
        "\n",
        "* 正則化は過学習を防ぐための手法の一つで線形回帰のアルゴリズムと共に利用\n",
        "* テキストでは $y = sin(2 \\pi x)$ に乱数を加えて生成したデータを元に学習に用いたデータと検証データを分けたうえで、学習誤差と検証誤差をまとめた例で説明\n",
        "  * 線形回帰の次元を増やしていくと学習誤差は小さくなる一方、検証誤差は大きくなる結果\n",
        "\n",
        "| 次数 | 学習誤差 | 検証誤差 |\n",
        "| :--- | :---: | :---: |\n",
        "| 1 | 0.412 | 0.618 |\n",
        "| 2 | 0.176 | 0.193 |\n",
        "| 3 | 0.081 | 0.492 |\n",
        "|   |       |       |\n",
        "| 6 | 0.024 | 3.472 | \n",
        "\n",
        "* 上記の事例に正則化したら、下記のようになったという結果\n",
        "\n",
        "| 次数 | 学習誤差 | 検証誤差 |\n",
        "| :--- | :---: | :---: |\n",
        "| 1 | 0.412 | 0.612 |\n",
        "| 2 | 0.372 | 0.532 |\n",
        "| 3 | 0.301 | 0.394 |\n",
        "|   |       |       |\n",
        "| 6 | 0.159 | 0.331 |\n",
        "\n",
        "* 複雑なモデル（次数が高いモデル）が過学習する様子と過学習を防げる様子は上記の事例で確認\n",
        "  * 過学習の原因として、学習パラメータ $w1$ が極端に大きい（または小さい）値を取ることがある\n",
        "\n",
        "| 次数 | $w0$ | $w1$ | $w2$ | $w3$ | $w4$ | $w5$ | $w6$ |\n",
        "| :--- | ---: | ---: | ---: | ---: | ---: | ---: | ---: |\n",
        "| 1 | -0.007 | -0.217 |        |        | | | |\n",
        "| 2 |  0.978 | -5.222 |  4.204 |        | | | |\n",
        "| 3 |  0.281 |  4.927 |-17.639 | 12.157 | | | |\n",
        "| 6 |  1.080 |-26.324 |287.431 |-1024.141|1611.144|-1147.946|308.643|\n",
        "\n",
        "* 上記の事例に正則化したら、下記のようになったという結果\n",
        "\n",
        "| 次数 | $w0$ | $w1$ | $w2$ | $w3$ | $w4$ | $w5$ | $w6$ |\n",
        "| :--- | ---: | ---: | ---: | ---: | ---: | ---: | ---: |\n",
        "| 1 | -0.055 | -0.149 |        |        | | | |\n",
        "| 2 | -0.066 | -0.493 |  0.421 |        | | | |\n",
        "| 3 | -0.001 | -0.716 | -0.042 |  0.670 | | | |\n",
        "| 6 |  0.191 | -0.751 | -0.497 | -0.182|  0.109 |  0.370 |  0.607|\n",
        "\n",
        "* 正則化で学習パラメータを抑えることができるのかRidge回帰の誤差関数（2次関数の場合）\n",
        "  * 右辺の第1項は線形回帰の損失関数\n",
        "  * 右辺の第2講は罰則項（または正規化項）と呼ばれるもので、学習パラメータの2乗和\n",
        "    * 切片である $w0$ は罰則項に含まないのが一般的\n",
        "    * $\\alpha $ ( >= 0) は正規化の強さをコントロールするパラメータで$\\alpha$ が大きいほど学習パラメータが抑えられ、$\\alpha$ が小さいほど学習データへの当てはまりが強くなる\n",
        "  * Ridge回帰の損失関数 $R(w)$ を最小化するには...\n",
        "    * 右辺の第1項だけに注目すると、学習データ $y$ との誤差を小さくするような任意の $w0$, $w1$, $w2$ を問題になる\n",
        "    * しかし、右辺の第2項の罰則項は学習パラメータの2乗和になっているので、学習パラメータの絶対値が大きいと、損失関数全体が大きくなってしまう\n",
        "      * 結局のところ罰則項は学習パラメータの絶対値が大きくなることに対して損失が大きくなるような罰則を与える役割を持っており、この役割で学習パラメータを抑えている\n",
        "\n",
        "$$\n",
        "R(w) = \n",
        "\\sum_{i=1}^{n} \n",
        "  \\Bigl( \n",
        "    y_i\n",
        "    \\bigl(\n",
        "      w_0 + w_1 x_i + w_2 x_i^2\n",
        "    \\bigr)\n",
        "  \\Bigr)^2 + \\alpha \\bigl(\n",
        "    w_1^2 + w_2^2\n",
        "  \\bigr)\n",
        "$$\n",
        "\n",
        "\n",
        "* サンプルコードのポイント\n",
        "  * 前に sklearn.linear_model の中の LinearRegression クラスを用いて、線形回帰を試していたが、今回は正則化対応している Ridge クラス Ridge回帰を行う\n",
        "    * 恐らく、Ridgeクラスのコンストラクタに渡しているのが、alphaすなわち正則化の強さを設定している\n",
        "    * sklearn.preprocessing の [PolynomialFeatures](https://scikit-learn.org/stable/modules/generated/sklearn.preprocessing.PolynomialFeatures.html) クラスは線形回帰でなく、多項式を用いるのに利用しているらしいが、この使い方は **もう少し調査が必要**\n",
        "      * Ridge回帰の学習データと検証データの両方に PolynomiaFeatures の fit_transform() を介して出力したデータを用いていることから何かしらの元のデータに何かを加えているものと思われる\n",
        "      * なお、 np.random.uniform() は引数の間の乱数生成なので、fit_transform()の引数で渡しているのはただの乱数\n",
        "    * Ridgeクラスの使い方は、LinearRegressionクラスと同じで空のモデルを生成し、fit()で学習モデルを作成し、predict()で学習モデルを用いた予測を行っている"
      ]
    },
    {
      "cell_type": "code",
      "metadata": {
        "id": "VwpBoKBfsNub",
        "colab": {
          "base_uri": "https://localhost:8080/",
          "height": 51
        },
        "outputId": "66efce9d-89db-40b8-a2c6-a8e2ba9d6b6b"
      },
      "source": [
        "import numpy as np\n",
        "from sklearn.preprocessing import PolynomialFeatures\n",
        "from sklearn.linear_model import Ridge\n",
        "from sklearn.metrics import mean_squared_error\n",
        "\n",
        "train_size = 20\n",
        "test_size = 12\n",
        "train_X = np.random.uniform(low=0.0, high=1.2, size=train_size)\n",
        "test_X = np.random.uniform(low=0.1, high=1.3, size=test_size)\n",
        "train_y = np.sin(train_X * 2 * np.pi) + np.random.normal(0.0, 0.2, train_size)\n",
        "test_y = np.sin(test_X * 2 * np.pi) + np.random.normal(0.0, 0.2, test_size)\n",
        "\n",
        "poly = PolynomialFeatures(6) #次数は6\n",
        "train_poly_X = poly.fit_transform(train_X.reshape(train_size, 1))\n",
        "test_poly_X = poly.fit_transform(test_X.reshape(test_size, 1))\n",
        "\n",
        "model = Ridge(alpha=1.0)\n",
        "model.fit(train_poly_X, train_y)\n",
        "train_pred_y = model.predict(train_poly_X)\n",
        "test_pred_y = model.predict(test_poly_X)\n",
        "\n",
        "print(mean_squared_error(train_pred_y, train_y))\n",
        "print(mean_squared_error(test_pred_y, test_y))\n"
      ],
      "execution_count": null,
      "outputs": [
        {
          "output_type": "stream",
          "text": [
            "0.20899796461433864\n",
            "0.25035442446906714\n"
          ],
          "name": "stdout"
        }
      ]
    },
    {
      "cell_type": "code",
      "metadata": {
        "id": "3HkehfxU6x4Y",
        "colab": {
          "base_uri": "https://localhost:8080/",
          "height": 1000
        },
        "outputId": "1fd0f2e0-d6e9-454f-d59b-e77156d1d30c"
      },
      "source": [
        "print(model.coef_)\n",
        "print(model.intercept_)\n",
        "print(model.n_iter_)\n",
        "print(train_poly_X.max(), train_poly_X.min(), test_poly_X.max(), test_poly_X.min())\n",
        "print(train_poly_X)\n",
        "print(train_pred_y)\n",
        "\n",
        "# 下記はプロットしようとしたが、trainのデータが7つのデータの20セットと忘れているため、適切でない\n",
        "import matplotlib.pyplot as plt\n",
        "fig = plt.figure(figsize=(10,10))\n",
        "axe = fig.add_subplot(111, xlim=(-1,4))\n",
        "axe.plot(train_poly_X, train_y, \"bo\", label=\"training data\")\n",
        "axe.plot(test_poly_X, test_pred_y, \"r+\", label=\"test data\")\n",
        "#converged_X = [i / 10 for i in range(-10, 30)]\n",
        "#converged_Y = [\n",
        "#               model.coef_[1] * ((i/10)**1)\n",
        "#               + model.coef_[2] * ((i/10)**2)\n",
        "#               + model.coef_[3] * ((i/10)**3)\n",
        "#               + model.coef_[4] * ((i/10)**4)\n",
        "#               + model.coef_[5] + ((i/10)**5)\n",
        "#               + model.coef_[6] + ((i/10)**6)\n",
        "#               + model.intercept_ for i in range(-10, 30)]\n",
        "#axe.plot(converged_X, converged_Y, \"--\", label=\"converged\")\n",
        "axe.legend()\n"
      ],
      "execution_count": null,
      "outputs": [
        {
          "output_type": "stream",
          "text": [
            "[ 0.         -0.84187746 -0.76463379 -0.40821051 -0.00463911  0.3849205\n",
            "  0.74985891]\n",
            "0.7325330361685184\n",
            "None\n",
            "2.2395768753826957 5.210596240059123e-10 3.508039851680207 2.6063975808063655e-06\n",
            "[[1.00000000e+00 7.98905327e-01 6.38249721e-01 5.09901102e-01\n",
            "  4.07362707e-01 3.25444236e-01 2.59999134e-01]\n",
            " [1.00000000e+00 8.29965517e-01 6.88842760e-01 5.71715738e-01\n",
            "  4.74504348e-01 3.93822247e-01 3.26858885e-01]\n",
            " [1.00000000e+00 4.20044955e-01 1.76437764e-01 7.41117925e-02\n",
            "  3.11302845e-02 1.30761190e-02 5.49255779e-03]\n",
            " [1.00000000e+00 4.37002979e-01 1.90971604e-01 8.34551597e-02\n",
            "  3.64701534e-02 1.59375657e-02 6.96476368e-03]\n",
            " [1.00000000e+00 1.14382872e+00 1.30834413e+00 1.49652159e+00\n",
            "  1.71176437e+00 1.95796525e+00 2.23957688e+00]\n",
            " [1.00000000e+00 1.09264966e+00 1.19388327e+00 1.30449615e+00\n",
            "  1.42535727e+00 1.55741614e+00 1.70171021e+00]\n",
            " [1.00000000e+00 2.26589329e-01 5.13427239e-02 1.16337134e-02\n",
            "  2.63607530e-03 5.97306533e-04 1.35343286e-04]\n",
            " [1.00000000e+00 3.97690270e-01 1.58157551e-01 6.28977191e-02\n",
            "  2.50138109e-02 9.94774920e-03 3.95612307e-03]\n",
            " [1.00000000e+00 8.52347303e-01 7.26495926e-01 6.19226843e-01\n",
            "  5.27796330e-01 4.49865779e-01 3.83441883e-01]\n",
            " [1.00000000e+00 2.93606263e-01 8.62046374e-02 2.53102214e-02\n",
            "  7.43123952e-03 2.18185846e-03 6.40607308e-04]\n",
            " [1.00000000e+00 3.04201032e-01 9.25382676e-02 2.81502365e-02\n",
            "  8.56333098e-03 2.60497412e-03 7.92435814e-04]\n",
            " [1.00000000e+00 8.63085964e-01 7.44917382e-01 6.42927737e-01\n",
            "  5.54901906e-01 4.78928047e-01 4.13356075e-01]\n",
            " [1.00000000e+00 8.15597247e-01 6.65198869e-01 5.42534366e-01\n",
            "  4.42489535e-01 3.60893247e-01 2.94343539e-01]\n",
            " [1.00000000e+00 1.04393970e+00 1.08981009e+00 1.13769601e+00\n",
            "  1.18768603e+00 1.23987259e+00 1.29435222e+00]\n",
            " [1.00000000e+00 2.85599100e-01 8.15668462e-02 2.32954179e-02\n",
            "  6.65315039e-03 1.90013377e-03 5.42676495e-04]\n",
            " [1.00000000e+00 1.01563544e+00 1.03151535e+00 1.04764355e+00\n",
            "  1.06402393e+00 1.08066041e+00 1.09755702e+00]\n",
            " [1.00000000e+00 1.13363206e+00 1.28512164e+00 1.45685509e+00\n",
            "  1.65153763e+00 1.87223600e+00 2.12242675e+00]\n",
            " [1.00000000e+00 2.83670759e-02 8.04690994e-04 2.28267305e-05\n",
            "  6.47527595e-07 1.83684644e-08 5.21059624e-10]\n",
            " [1.00000000e+00 7.46700340e-01 5.57561398e-01 4.16331285e-01\n",
            "  3.10874712e-01 2.32130253e-01 1.73331739e-01]\n",
            " [1.00000000e+00 1.14581007e-01 1.31288072e-02 1.50431195e-03\n",
            "  1.72365578e-04 1.97498215e-05 2.26295444e-06]]\n",
            "[-0.31787861 -0.33180202  0.22275066  0.19572756  0.58335602  0.23617496\n",
            "  0.49808438  0.25779803 -0.33507581  0.4103914   0.39574113 -0.33438473\n",
            " -0.32662308 -0.00173723  0.42132286 -0.10485302  0.50532374  0.70802683\n",
            " -0.27449438  0.62542556]\n"
          ],
          "name": "stdout"
        },
        {
          "output_type": "execute_result",
          "data": {
            "text/plain": [
              "<matplotlib.legend.Legend at 0x7f61443cd588>"
            ]
          },
          "metadata": {
            "tags": []
          },
          "execution_count": 12
        },
        {
          "output_type": "display_data",
          "data": {
            "image/png": "[encoded data removed]",
            "text/plain": [
              "<Figure size 720x720 with 1 Axes>"
            ]
          },
          "metadata": {
            "tags": []
          }
        }
      ]
    }
  ]
}