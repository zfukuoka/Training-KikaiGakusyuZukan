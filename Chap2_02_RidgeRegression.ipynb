{
  "nbformat": 4,
  "nbformat_minor": 0,
  "metadata": {
    "colab": {
      "name": "Chap2_02_RidgeRegression.ipynb",
      "provenance": [],
      "authorship_tag": "ABX9TyMyrAp+sQNSrGnAYAzVDrlp",
      "include_colab_link": true
    },
    "kernelspec": {
      "name": "python3",
      "display_name": "Python 3"
    }
  },
  "cells": [
    {
      "cell_type": "markdown",
      "metadata": {
        "id": "view-in-github",
        "colab_type": "text"
      },
      "source": [
        "<a href=\"https://colab.research.google.com/github/zfukuoka/Training-KikaiGakusyuZukan/blob/master/Chap2_02_RidgeRegression.ipynb\" target=\"_parent\"><img src=\"https://colab.research.google.com/assets/colab-badge.svg\" alt=\"Open In Colab\"/></a>"
      ]
    },
    {
      "cell_type": "markdown",
      "metadata": {
        "id": "cF-onuV8stUw",
        "colab_type": "text"
      },
      "source": [
        "# 第２章  教師あり学習\n",
        "\n",
        "## 02 正則化\n",
        "\n",
        "ポイント\n",
        "\n",
        "* 正則化は過学習を防ぐための手法の一つで線形回帰のアルゴリズムと共に利用\n",
        "* テキストでは y = sin(2 * pi * x) に乱数を加えて生成したデータを元に学習に用いたデータと検証データを分けたうえで、学習誤差と検証誤差をまとめた例で説明\n",
        "  * 線形回帰の次元を増やしていくと学習誤差は小さくなる一方、検証誤差は大きくなる結果\n",
        "\n",
        "| 次数 | 学習誤差 | 検証誤差 |\n",
        "| :--- | :---: | :---: |\n",
        "| 1 | 0.412 | 0.618 |\n",
        "| 2 | 0.176 | 0.193 |\n",
        "| 3 | 0.081 | 0.492 |\n",
        "|   |       |       |\n",
        "| 6 | 0.024 | 3.472 | \n",
        "\n",
        "* 上記の事例に正則化したら、下記のようになったという結果\n",
        "\n",
        "| 次数 | 学習誤差 | 検証誤差 |\n",
        "| :--- | :---: | :---: |\n",
        "| 1 | 0.412 | 0.612 |\n",
        "| 2 | 0.372 | 0.532 |\n",
        "| 3 | 0.301 | 0.394 |\n",
        "|   |       |       |\n",
        "| 6 | 0.159 | 0.331 |\n",
        "\n",
        "* 複雑なモデル（次数が高いモデル）が過学習する様子と過学習を防げる様子は上記の事例で確認\n",
        "  * 過学習の原因として、学習パラメータ w1 が極端に大きい（または小さい）値を取ることがある\n",
        "\n",
        "| 次数 | w0 | w1 | w2 | w3 | w4 | w5 | w6 |\n",
        "| :--- | ---: | ---: | ---: | ---: | ---: | ---: | ---: |\n",
        "| 1 | -0.007 | -0.217 |        |        | | | |\n",
        "| 2 |  0.978 | -5.222 |  4.204 |        | | | |\n",
        "| 3 |  0.281 |  4.927 |-17.639 | 12.157 | | | |\n",
        "| 6 |  1.080 |-26.324 |287.431 |-1024.141|1611.144|-1147.946|308.643|\n",
        "\n",
        "* 上記の事例に正則化したら、下記のようになったという結果\n",
        "\n",
        "| 次数 | w0 | w1 | w2 | w3 | w4 | w5 | w6 |\n",
        "| :--- | ---: | ---: | ---: | ---: | ---: | ---: | ---: |\n",
        "| 1 | -0.055 | -0.149 |        |        | | | |\n",
        "| 2 | -0.066 | -0.493 |  0.421 |        | | | |\n",
        "| 3 | -0.001 | -0.716 | -0.042 |  0.670 | | | |\n",
        "| 6 |  0.191 | -0.751 | -0.497 | -0.182|  0.109 |  0.370 |  0.607|\n",
        "\n",
        "* 正則化で学習パラメータを抑えることができるのかRidge回帰の誤差関数（2次関数の場合）\n",
        "  * 右辺の第1項は線形回帰の損失関数\n",
        "  * 右辺の第2講は罰則項（または正規化項）と呼ばれるもので、学習パラメータの2乗和\n",
        "    * 切片であるw0 は罰則項に含まないのが一般的\n",
        "    * α( >= 0) は正規化の強さをコントロールするパラメータでαが大きいほど学習パラメータが抑えられ、αが小さいほど学習データへの当てはまりが強くなる\n",
        "  * Ridge回帰の損失関数R(w)を最小化するには...\n",
        "    * 右辺の第1項だけに注目すると、学習データy との誤差を小さくするような任意の w0, w1, w2 を問題になる\n",
        "    * しかし、右辺の第2項の罰則項は学習パラメータの2乗和になっているので、学習パラメータの絶対値が大きいと、損失関数全体が大きくなってしまう\n",
        "      * 結局のところ罰則項は学習パラメータの絶対値が大きくなることに対して損失が大きくなるような罰則を与える役割を持っており、この役割で学習パラメータを抑えている\n",
        "\n",
        "$$\n",
        "R(w) = \n",
        "\\sum_{i=1}^{n} \n",
        "  \\Bigl( \n",
        "    y_i\n",
        "    \\bigl(\n",
        "      w_0 + w_1 x_i + w_2 x_i^2\n",
        "    \\bigr)\n",
        "  \\Bigr)^2 + \\alpha \\bigl(\n",
        "    w_1^2 + w_2^2\n",
        "  \\bigr)\n",
        "$$\n",
        "\n",
        "\n",
        "* サンプルコードのポイントはあとで書く"
      ]
    },
    {
      "cell_type": "code",
      "metadata": {
        "id": "VwpBoKBfsNub",
        "colab_type": "code",
        "colab": {}
      },
      "source": [
        "import numpy as np\n",
        "from sklearn.preprocessing import PolynomialFeatures\n",
        "from sklearn.linear_model import Ridge\n",
        "from sklearn.metrics import mean_squared_error\n"
      ],
      "execution_count": 0,
      "outputs": []
    }
  ]
}