{
  "nbformat": 4,
  "nbformat_minor": 0,
  "metadata": {
    "colab": {
      "name": "Chap2_03_LogisticRegression.ipynb",
      "provenance": [],
      "authorship_tag": "ABX9TyP0vU96OOi1FgabJG/bYSz0",
      "include_colab_link": true
    },
    "kernelspec": {
      "name": "python3",
      "display_name": "Python 3"
    }
  },
  "cells": [
    {
      "cell_type": "markdown",
      "metadata": {
        "id": "view-in-github",
        "colab_type": "text"
      },
      "source": [
        "<a href=\"https://colab.research.google.com/github/zfukuoka/Training-KikaiGakusyuZukan/blob/master/Chap2_03_LogisticRegression.ipynb\" target=\"_parent\"><img src=\"https://colab.research.google.com/assets/colab-badge.svg\" alt=\"Open In Colab\"/></a>"
      ]
    },
    {
      "cell_type": "markdown",
      "metadata": {
        "id": "4N1-ocpOeDX6",
        "colab_type": "text"
      },
      "source": [
        "# 第２章  教師あり学習\n",
        "\n",
        "## 03 ロジスティック回帰\n",
        "\n",
        "ポイント\n",
        "\n",
        "* sklearn  の  LogisticRegression クラスを用いて動かすことができる\n",
        "\n"
      ]
    },
    {
      "cell_type": "code",
      "metadata": {
        "id": "iFGkSGlOdymI",
        "colab_type": "code",
        "colab": {
          "base_uri": "https://localhost:8080/",
          "height": 34
        },
        "outputId": "73bbd3a5-b969-4c99-ef73-e61e025c93f1"
      },
      "source": [
        "import numpy as np\n",
        "from sklearn.linear_model import LogisticRegression\n",
        "\n",
        "X_train = np.r_[np.random.normal(3, 1, size=50),\n",
        "                np.random.normal(-1, 1, size=50)].reshape((100, -1))\n",
        "y_train = np.r_[np.ones(50), np.zeros(50)]\n",
        "model = LogisticRegression()\n",
        "model.fit(X_train, y_train)\n",
        "model.predict_proba([[0], [1], [2]])[:,1]\n",
        "\n"
      ],
      "execution_count": 2,
      "outputs": [
        {
          "output_type": "execute_result",
          "data": {
            "text/plain": [
              "array([0.09736888, 0.51184929, 0.91065179])"
            ]
          },
          "metadata": {
            "tags": []
          },
          "execution_count": 2
        }
      ]
    },
    {
      "cell_type": "markdown",
      "metadata": {
        "id": "LLj2-y1wiTJu",
        "colab_type": "text"
      },
      "source": [
        "サンプルコードは、上記だけで分かりにくいので補足すると\n",
        "* X_trainの最初の50個は１、残り50個は1 に割り当てるように乱数でデータ生成\n",
        "* X_trainに対応するように y_train を定義しており、最初の50個には1を代入し、残り50個には0を代入している\n",
        "* 変数model に空のモデルを作成、fit()で学習、predict_proba()で予想している\n",
        "\n",
        "上記のサンプルを可視化すると下記のようになっている\n",
        "* X軸の0～2の間は、Y軸の0にも1にもなることが分かるが、上記サンプルの結果と一致するようにX軸が0, 1, 2の場合の予測は0に近づくほど、確率が低く、2に近づくほど確率が高いことが見て取れる"
      ]
    },
    {
      "cell_type": "code",
      "metadata": {
        "id": "NtbuydbUgnfY",
        "colab_type": "code",
        "colab": {
          "base_uri": "https://localhost:8080/",
          "height": 337
        },
        "outputId": "2bdcd572-0a26-41ec-9a26-b580dd27b733"
      },
      "source": [
        "import matplotlib.pyplot as plt\n",
        "\n",
        "fig = plt.figure(figsize=(30, 5))\n",
        "axe = fig.add_subplot(111)\n",
        "\n",
        "axe.plot(X_train[:49], y_train[:49], \"bo\")\n",
        "axe.plot(X_train[50:], y_train[50:], \"rx\")"
      ],
      "execution_count": 7,
      "outputs": [
        {
          "output_type": "execute_result",
          "data": {
            "text/plain": [
              "[<matplotlib.lines.Line2D at 0x7f079d420eb8>]"
            ]
          },
          "metadata": {
            "tags": []
          },
          "execution_count": 7
        },
        {
          "output_type": "display_data",
          "data": {
            "image/png": "[encoded data removed]",
            "text/plain": [
              "<Figure size 2160x360 with 1 Axes>"
            ]
          },
          "metadata": {
            "tags": []
          }
        }
      ]
    }
  ]
}