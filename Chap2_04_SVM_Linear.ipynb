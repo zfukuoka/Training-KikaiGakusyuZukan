{
  "nbformat": 4,
  "nbformat_minor": 0,
  "metadata": {
    "colab": {
      "name": "Chap2_04_SVM_Linear.ipynb",
      "provenance": [],
      "authorship_tag": "ABX9TyNjcsfRGUCwHgUrIbyHLj10",
      "include_colab_link": true
    },
    "kernelspec": {
      "name": "python3",
      "display_name": "Python 3"
    }
  },
  "cells": [
    {
      "cell_type": "markdown",
      "metadata": {
        "id": "view-in-github",
        "colab_type": "text"
      },
      "source": [
        "<a href=\"https://colab.research.google.com/github/zfukuoka/Training-KikaiGakusyuZukan/blob/master/Chap2_04_SVM_Linear.ipynb\" target=\"_parent\"><img src=\"https://colab.research.google.com/assets/colab-badge.svg\" alt=\"Open In Colab\"/></a>"
      ]
    },
    {
      "cell_type": "markdown",
      "metadata": {
        "id": "M56mYpy0oVGY",
        "colab_type": "text"
      },
      "source": [
        "# 第２章  教師あり学習\n",
        "\n",
        "## 04 線形サポートベクトルマシン\n",
        "\n",
        "ポイント\n",
        "\n",
        "* ここでは線形サポートベクトルマシーン二値分類の例\n",
        "* 決定境界からのマージン最大化という基準で分類\n",
        "  * 同じ線形の線形回帰よりも良い結果を得られることもある\n",
        "* sklearn  の  LinearSVC クラスを用いて動かすことができる\n",
        "* 最初に作成するデータは sklearn.datasetsのmake_blobs()で作る\n",
        "  * 結果は、タプルである範囲とその分類結果\n",
        "  * n_samplesパラメータで作成するデータの個数を設定\n",
        "  * n_featuresパラメータで分類の個数を設定\n",
        "  * centersパラメータは不明だが、おそらく範囲を定めたタプルの配列（配列の個数が次元を表す？）\n",
        "  * clulster_stdパラメータは不明？\n",
        "* 学習用と試験用データの分割は sklearn.model_selectionのtrain_test_split() を用いて行う\n",
        "  * test_sizeパラメータが試験用の割合を指す\n",
        "* LinearSVCクラスのインスタンス生成で空のモデルを作成\n",
        "* LinearSVCのインスタンスにfit()を用いて学習\n",
        "* 学習後にpredict()を用いて、試験用データを投入して試験\n"
      ]
    },
    {
      "cell_type": "code",
      "metadata": {
        "id": "17tG6aBnoHqC",
        "colab_type": "code",
        "outputId": "e8c7b356-7a84-4552-b28b-d8f021f1ee0d",
        "colab": {
          "base_uri": "https://localhost:8080/",
          "height": 34
        }
      },
      "source": [
        "from sklearn.svm import LinearSVC\n",
        "from sklearn.datasets import make_blobs\n",
        "from sklearn.model_selection import train_test_split\n",
        "from sklearn.metrics import accuracy_score\n",
        "\n",
        "# データ生成\n",
        "centers = [(-1, -0.125), (0.5, 0.5)]\n",
        "X, y = make_blobs(\n",
        "    n_samples=50, n_features=2,\n",
        "    centers=centers, cluster_std=0.3\n",
        ")\n",
        "X_train, X_test, y_train, y_test = train_test_split(X, y, test_size=0.3)\n",
        "model = LinearSVC()\n",
        "model.fit(X_train, y_train)\n",
        "y_pred = model.predict(X_test)\n",
        "accuracy_score(y_pred, y_test)"
      ],
      "execution_count": 1,
      "outputs": [
        {
          "output_type": "execute_result",
          "data": {
            "text/plain": [
              "1.0"
            ]
          },
          "metadata": {
            "tags": []
          },
          "execution_count": 1
        }
      ]
    },
    {
      "cell_type": "markdown",
      "metadata": {
        "id": "gLXZeDDGiF0O",
        "colab_type": "text"
      },
      "source": [
        "サンプルコードではわかりにくいので、matplotlibの等高線を示す contourf() を用いると、わかりやすい\n",
        "* 元々、2次元の入力で予測結果がでるので、結果を3次元目として高さとする\n",
        "* この等高線を示すために入力をメッシュ（格子状）にして細かいデータを作り、その結果（高さ）を得ることで可視化できる\n",
        "  * メッシュにするために、numpyのmeshgrid()を用いて、範囲と粒度を指定して作成。しかし入力の1次元毎になっていたものが2次元毎の出力になるかは不明\n",
        "  * 上記のように2次元結果になってしまい、改めて結果を得るためにravel()を用いて1次元の入力に変える必要が出てくる\n",
        "  * matplotlibのcontourf()もなぜかX,Y,Z軸ごとに2次元の入力になるか不明\n",
        "\n",
        "下記のプロットは、学習用データのプロットを〇×で分けてプロットしたうえで格子状の結果から色分けしている。"
      ]
    },
    {
      "cell_type": "code",
      "metadata": {
        "id": "PYbatHO6rAbZ",
        "colab_type": "code",
        "outputId": "39db38dc-eff1-47d0-f943-2c8407ec8656",
        "colab": {
          "base_uri": "https://localhost:8080/",
          "height": 609
        }
      },
      "source": [
        "def make_meshgrid(x, y, h=.02):\n",
        "  x_min, x_max = x.min() - 0.5, x.max() + 0.5\n",
        "  y_min, y_max = y.min() - 0.2, y.max() + 0.2\n",
        "  xx, yy = np.meshgrid(np.arange(x_min, x_max, h), np.arange(y_min, y_max, h))\n",
        "  return xx, yy\n",
        "\n",
        "import numpy as np\n",
        "yy = np.array(y_train)\n",
        "y0 = np.where(yy==0)\n",
        "y1 = np.where(yy==1)\n",
        "mesh_x, mesh_y = make_meshgrid(X_train[0:,0], X_train[0:,1], h=0.05)\n",
        "mesh_z = model.predict(np.c_[mesh_x.ravel(), mesh_y.ravel()])\n",
        "\n",
        "import matplotlib.pyplot as plt\n",
        "\n",
        "fig = plt.figure(figsize=(10,10))\n",
        "ax = fig.add_subplot(111)\n",
        "ax.plot(X_train[y0,0], X_train[y0,1], \"bo\")\n",
        "ax.plot(X_train[y1,0], X_train[y1,1], \"gx\")\n",
        "ax.contourf(\n",
        "    mesh_x, mesh_y, mesh_z.reshape(mesh_x.shape),\n",
        "    cmap=plt.cm.coolwarm, alpha=0.5, zorder=-10)\n"
      ],
      "execution_count": 23,
      "outputs": [
        {
          "output_type": "execute_result",
          "data": {
            "text/plain": [
              "<matplotlib.contour.QuadContourSet at 0x7f673dfccba8>"
            ]
          },
          "metadata": {
            "tags": []
          },
          "execution_count": 23
        },
        {
          "output_type": "display_data",
          "data": {
            "image/png": "[encoded data removed]",
            "text/plain": [
              "<Figure size 720x720 with 1 Axes>"
            ]
          },
          "metadata": {
            "tags": [],
            "needs_background": "light"
          }
        }
      ]
    }
  ]
}