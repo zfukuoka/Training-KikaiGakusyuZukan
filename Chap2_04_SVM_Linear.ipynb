{
  "nbformat": 4,
  "nbformat_minor": 0,
  "metadata": {
    "colab": {
      "name": "Chap2_04_SVM_Linear.ipynb",
      "provenance": [],
      "authorship_tag": "ABX9TyMDfNMbZkcFtdzN7N8LbRk1",
      "include_colab_link": true
    },
    "kernelspec": {
      "name": "python3",
      "display_name": "Python 3"
    }
  },
  "cells": [
    {
      "cell_type": "markdown",
      "metadata": {
        "id": "view-in-github",
        "colab_type": "text"
      },
      "source": [
        "<a href=\"https://colab.research.google.com/github/zfukuoka/Training-KikaiGakusyuZukan/blob/master/Chap2_04_SVM_Linear.ipynb\" target=\"_parent\"><img src=\"https://colab.research.google.com/assets/colab-badge.svg\" alt=\"Open In Colab\"/></a>"
      ]
    },
    {
      "cell_type": "markdown",
      "metadata": {
        "id": "M56mYpy0oVGY",
        "colab_type": "text"
      },
      "source": [
        "# 第２章  教師あり学習\n",
        "\n",
        "## 04 線形サポートベクトルマシン\n",
        "\n",
        "ポイント\n",
        "\n",
        "* ここでは線形サポートベクトルマシーン二値分類の例\n",
        "* 決定境界からのマージン最大化という基準で分類\n",
        "  * 同じ線形の線形回帰よりも良い結果を得られることもある\n",
        "* sklearn  の  LinearSVC クラスを用いて動かすことができる\n",
        "\n"
      ]
    },
    {
      "cell_type": "code",
      "metadata": {
        "id": "17tG6aBnoHqC",
        "colab_type": "code",
        "colab": {
          "base_uri": "https://localhost:8080/",
          "height": 34
        },
        "outputId": "b3fee30f-f60f-4cda-d254-3dc1fbd3ed3a"
      },
      "source": [
        "from sklearn.svm import LinearSVC\n",
        "from sklearn.datasets import make_blobs\n",
        "from sklearn.model_selection import train_test_split\n",
        "from sklearn.metrics import accuracy_score\n",
        "\n",
        "# データ生成\n",
        "centers = [(-1, -0.125), (0.5, 0.5)]\n",
        "X, y = make_blobs(\n",
        "    n_samples=50, n_features=2,\n",
        "    centers=centers, cluster_std=0.3\n",
        ")\n",
        "X_train, X_test, y_train, y_test = train_test_split(X, y, test_size=0.3)\n",
        "model = LinearSVC()\n",
        "model.fit(X_train, y_train)\n",
        "y_pred = model.predict(X_test)\n",
        "accuracy_score(y_pred, y_test)"
      ],
      "execution_count": 13,
      "outputs": [
        {
          "output_type": "execute_result",
          "data": {
            "text/plain": [
              "1.0"
            ]
          },
          "metadata": {
            "tags": []
          },
          "execution_count": 13
        }
      ]
    },
    {
      "cell_type": "code",
      "metadata": {
        "id": "PYbatHO6rAbZ",
        "colab_type": "code",
        "colab": {
          "base_uri": "https://localhost:8080/",
          "height": 1000
        },
        "outputId": "3fa09d8f-bd84-46ae-c15c-037d32453226"
      },
      "source": [
        "print(X_train.shape)\n",
        "print(y_train.shape)\n",
        "print(X_test.shape)\n",
        "print(model.coef_)\n",
        "print(model.intercept_)\n",
        "\n",
        "import numpy as np\n",
        "yy = np.array(y_train)\n",
        "y0 = np.where(yy==0)\n",
        "y1 = np.where(yy==1)\n",
        "print(X_train[y0])\n",
        "import matplotlib.pyplot as plt\n",
        "\n",
        "fig = plt.figure(figsize=(10,10))\n",
        "ax = fig.add_subplot(111)\n",
        "ax.plot(X_train[y0,0], X_train[y0,1], \"bo\")\n",
        "ax.plot(X_train[y1,0], X_train[y1,1], \"rx\")\n"
      ],
      "execution_count": 14,
      "outputs": [
        {
          "output_type": "stream",
          "text": [
            "(35, 2)\n",
            "(35,)\n",
            "(15, 2)\n",
            "[[1.48809783 0.73612197]]\n",
            "[0.3642634]\n",
            "[[-1.06685638 -0.26104274]\n",
            " [-0.97431938  0.09859902]\n",
            " [-1.03789322 -0.01313992]\n",
            " [-0.75924446 -0.11732356]\n",
            " [-0.95103235 -0.08526686]\n",
            " [-1.50146804  0.04751022]\n",
            " [-1.50468489 -0.40243654]\n",
            " [-1.22674731 -0.35117655]\n",
            " [-1.01880107 -0.49430223]\n",
            " [-1.13448953 -0.1620814 ]\n",
            " [-0.66169537  0.02229927]\n",
            " [-1.12147191  0.06842435]\n",
            " [-1.06686497 -0.17504097]\n",
            " [-1.06721042 -0.77052526]\n",
            " [-1.21234504 -0.53753988]\n",
            " [-0.53095871 -0.17142675]\n",
            " [-1.68985812  0.01567011]\n",
            " [-0.97044585 -0.23069504]]\n"
          ],
          "name": "stdout"
        },
        {
          "output_type": "execute_result",
          "data": {
            "text/plain": [
              "[<matplotlib.lines.Line2D at 0x7f2373b5a8d0>,\n",
              " <matplotlib.lines.Line2D at 0x7f2373b0a630>,\n",
              " <matplotlib.lines.Line2D at 0x7f2373b0a5f8>,\n",
              " <matplotlib.lines.Line2D at 0x7f2373b0a780>,\n",
              " <matplotlib.lines.Line2D at 0x7f2373b0a8d0>,\n",
              " <matplotlib.lines.Line2D at 0x7f2373b0aa20>,\n",
              " <matplotlib.lines.Line2D at 0x7f2373b0ab70>,\n",
              " <matplotlib.lines.Line2D at 0x7f2373b0acc0>,\n",
              " <matplotlib.lines.Line2D at 0x7f2373b0ae10>,\n",
              " <matplotlib.lines.Line2D at 0x7f2373b0af60>,\n",
              " <matplotlib.lines.Line2D at 0x7f2373b120f0>,\n",
              " <matplotlib.lines.Line2D at 0x7f2373b12240>,\n",
              " <matplotlib.lines.Line2D at 0x7f2373b12390>,\n",
              " <matplotlib.lines.Line2D at 0x7f2373b124e0>,\n",
              " <matplotlib.lines.Line2D at 0x7f2373b12630>,\n",
              " <matplotlib.lines.Line2D at 0x7f2373b12780>,\n",
              " <matplotlib.lines.Line2D at 0x7f2373b128d0>]"
            ]
          },
          "metadata": {
            "tags": []
          },
          "execution_count": 14
        },
        {
          "output_type": "display_data",
          "data": {
            "image/png": "[encoded data removed]",
            "text/plain": [
              "<Figure size 720x720 with 1 Axes>"
            ]
          },
          "metadata": {
            "tags": []
          }
        }
      ]
    }
  ]
}