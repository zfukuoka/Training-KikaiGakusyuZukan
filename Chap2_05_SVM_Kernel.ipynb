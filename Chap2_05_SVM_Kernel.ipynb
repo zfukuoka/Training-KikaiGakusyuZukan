{
  "nbformat": 4,
  "nbformat_minor": 0,
  "metadata": {
    "colab": {
      "name": "Chap2_05_SVM_Kernel.ipynb",
      "provenance": [],
      "authorship_tag": "ABX9TyNUM1dQfaYLBpi6divnJ/aD",
      "include_colab_link": true
    },
    "kernelspec": {
      "name": "python3",
      "display_name": "Python 3"
    }
  },
  "cells": [
    {
      "cell_type": "markdown",
      "metadata": {
        "id": "view-in-github",
        "colab_type": "text"
      },
      "source": [
        "<a href=\"https://colab.research.google.com/github/zfukuoka/Training-KikaiGakusyuZukan/blob/master/Chap2_05_SVM_Kernel.ipynb\" target=\"_parent\"><img src=\"https://colab.research.google.com/assets/colab-badge.svg\" alt=\"Open In Colab\"/></a>"
      ]
    },
    {
      "cell_type": "markdown",
      "metadata": {
        "id": "BBRcnnr0K9DZ",
        "colab_type": "text"
      },
      "source": [
        "# 第２章教師あり学習\n",
        "\n",
        "## 05 サポートベクトルマシン（カーネル法）\n",
        "\n",
        "ポイント\n",
        "\n",
        "* 基本は線形サポートベクトルマシンと変わらない\n",
        "* 異なるのは高次元に展開したところで線形サポートベクトルマシンが動いている仕組みである\n",
        "  * 高次元に展開の方法として４つがある *※本の中での解説であり、背景にsklearnで使えるものとして限定している可能性あり*\n",
        "    * 線形カーネル\n",
        "      * 事実上、線形サポートベクトルマシンと同じ\n",
        "    * シグモイドカーネル\n",
        "      * シグモイド関数を用いたもので曲線を用いたものが可能\n",
        "    * 多項カーネル\n",
        "      * 円形を用いたものも可能\n",
        "    * RBFカーネル\n",
        "      * sklearnのSVCのデフォルトで用いるカーネル\n"
      ]
    },
    {
      "cell_type": "code",
      "metadata": {
        "id": "k0CcGmC6K5RM",
        "colab_type": "code",
        "outputId": "95007efd-af3c-43e7-fc4e-7a8eb2c93edc",
        "colab": {
          "base_uri": "https://localhost:8080/",
          "height": 34
        }
      },
      "source": [
        "from sklearn.svm import SVC\n",
        "from sklearn.datasets import make_gaussian_quantiles\n",
        "from sklearn.model_selection import train_test_split\n",
        "from sklearn.metrics import accuracy_score\n",
        "\n",
        "# データ生成\n",
        "X, y = make_gaussian_quantiles(n_features=2, n_classes=2, n_samples=300)\n",
        "X_train, X_test, y_train, y_test = train_test_split(X, y, test_size=0.3)\n",
        "\n",
        "model = SVC()\n",
        "model.fit(X_train, y_train)\n",
        "y_pred = model.predict(X_test)\n",
        "accuracy_score(y_pred, y_test)\n"
      ],
      "execution_count": 1,
      "outputs": [
        {
          "output_type": "execute_result",
          "data": {
            "text/plain": [
              "0.9666666666666667"
            ]
          },
          "metadata": {
            "tags": []
          },
          "execution_count": 1
        }
      ]
    },
    {
      "cell_type": "markdown",
      "metadata": {
        "id": "NjS-ksF0I1Z1",
        "colab_type": "text"
      },
      "source": [
        "サンプルコードだけではわかりにくいので、線形サポートベクトルマシンと同様に matplotlib の等高線を示す contourtf() を用いると分かりやすい。\n",
        "\n",
        "※詳細は線形サポートベクトルマシンを参照のこと（変更は範囲と粒度の変更のみ）"
      ]
    },
    {
      "cell_type": "code",
      "metadata": {
        "id": "_nunp7utoHRR",
        "colab_type": "code",
        "colab": {
          "base_uri": "https://localhost:8080/",
          "height": 609
        },
        "outputId": "71093e57-f854-4c55-d404-60313569f92f"
      },
      "source": [
        "def make_meshgrid(x, y, h=.02):\n",
        "  x_min, x_max = x.min() - 0.5, x.max() + 0.5\n",
        "  y_min, y_max = y.min() - 0.5, y.max() + 0.5\n",
        "  xx, yy = np.meshgrid(np.arange(x_min, x_max, h), np.arange(y_min, y_max, h))\n",
        "  return xx, yy\n",
        "\n",
        "import numpy as np\n",
        "yy = np.array(y_train)\n",
        "y0 = np.where(yy==0)\n",
        "y1 = np.where(yy==1)\n",
        "mesh_x, mesh_y = make_meshgrid(X_train[0:,0], X_train[0:,1], h=0.1)\n",
        "mesh_z = model.predict(np.c_[mesh_x.ravel(), mesh_y.ravel()])\n",
        "\n",
        "import matplotlib.pyplot as plt\n",
        "\n",
        "fig = plt.figure(figsize=(10,10))\n",
        "ax = fig.add_subplot(111)\n",
        "ax.plot(X_train[y0,0], X_train[y0,1], \"bo\")\n",
        "ax.plot(X_train[y1,0], X_train[y1,1], \"gx\")\n",
        "ax.contourf(\n",
        "    mesh_x, mesh_y, mesh_z.reshape(mesh_x.shape),\n",
        "    cmap=plt.cm.coolwarm, alpha=0.5, zorder=-10)"
      ],
      "execution_count": 5,
      "outputs": [
        {
          "output_type": "execute_result",
          "data": {
            "text/plain": [
              "<matplotlib.contour.QuadContourSet at 0x7f928ea28908>"
            ]
          },
          "metadata": {
            "tags": []
          },
          "execution_count": 5
        },
        {
          "output_type": "display_data",
          "data": {
            "image/png": "[encoded data removed]",
            "text/plain": [
              "<Figure size 720x720 with 1 Axes>"
            ]
          },
          "metadata": {
            "tags": [],
            "needs_background": "light"
          }
        }
      ]
    }
  ]
}