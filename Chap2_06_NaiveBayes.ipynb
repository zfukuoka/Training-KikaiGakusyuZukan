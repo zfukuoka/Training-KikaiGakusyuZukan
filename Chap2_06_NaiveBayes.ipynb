{
  "nbformat": 4,
  "nbformat_minor": 0,
  "metadata": {
    "colab": {
      "name": "Chap2_06_NaiveBayes.ipynb",
      "provenance": [],
      "authorship_tag": "ABX9TyPx7wRF5oGR+T32JoTxaP/7",
      "include_colab_link": true
    },
    "kernelspec": {
      "name": "python3",
      "display_name": "Python 3"
    }
  },
  "cells": [
    {
      "cell_type": "markdown",
      "metadata": {
        "id": "view-in-github",
        "colab_type": "text"
      },
      "source": [
        "<a href=\"https://colab.research.google.com/github/zfukuoka/Training-KikaiGakusyuZukan/blob/master/Chap2_06_NaiveBayes.ipynb\" target=\"_parent\"><img src=\"https://colab.research.google.com/assets/colab-badge.svg\" alt=\"Open In Colab\"/></a>"
      ]
    },
    {
      "cell_type": "markdown",
      "metadata": {
        "id": "C08Qlb8us4Zk",
        "colab_type": "text"
      },
      "source": [
        "# 第２章教師あり学習\n",
        "\n",
        "## 06 ナイーブベイズ\n",
        "\n",
        "ポイント\n",
        "\n",
        "* ナイーブベイズは分類問題で使われる\n",
        "* もともとのコードからして分かりにくいのだが、前提は下記の通り\n",
        "  * X_train は ある文章中にある名詞のありなしで1と0が決まっている\n",
        "    * この名詞と特定のユニークなIDを付ける処理は別のどこかで行われていることも暗黙の前提で、スパムフィルタではスパムで用いられる言葉（性的なもの、賞金、あなただけのような優越感があるもの、アカウント停止とか）が既に割り当たっている\n",
        "  * X_train の 0～2 は映画を指した文章、3～5は宇宙を指した文章となっており、前者を1、後者を0とし、この値が y_train に格納されている\n",
        "* 今までに出てきた機械学習のロジックと同様に、空のモデルにfit()で学習をさせてできたモデルに対して、predict()を使って結果を予想させるやり方  \n"
      ]
    },
    {
      "cell_type": "code",
      "metadata": {
        "id": "2S7kYc2qcqYa",
        "colab_type": "code",
        "outputId": "3b4b31c9-bc32-4037-ae90-36bce0b00a45",
        "colab": {
          "base_uri": "https://localhost:8080/",
          "height": 34
        }
      },
      "source": [
        "from sklearn.naive_bayes import MultinomialNB\n",
        "\n",
        "# データ生成\n",
        "X_train = [[1,1,0,0,0,0,0,0,0,0,0],\n",
        "           [0,1,1,1,0,0,0,0,0,0,0],\n",
        "           [1,0,0,0,1,1,0,0,0,0,0],\n",
        "           [0,0,0,0,0,0,1,1,0,0,0],\n",
        "           [0,0,0,0,0,0,0,1,1,1,0],\n",
        "           [0,0,0,0,0,1,0,1,1,0,1]]\n",
        "y_train = [1,1,1,0,0,0]\n",
        "model = MultinomialNB()\n",
        "model.fit(X_train, y_train)\n",
        "model.predict([[0,1,0,1,0,1,0,0,0,0,0]])  # 結果が array([1])になる\n",
        "# model.predict([[0,0,0,0,1,1,1,1,0,0,0]])  # 結果が array([0])になる"
      ],
      "execution_count": 4,
      "outputs": [
        {
          "output_type": "execute_result",
          "data": {
            "text/plain": [
              "array([1])"
            ]
          },
          "metadata": {
            "tags": []
          },
          "execution_count": 4
        }
      ]
    }
  ]
}