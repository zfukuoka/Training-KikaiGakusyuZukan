{
  "nbformat": 4,
  "nbformat_minor": 0,
  "metadata": {
    "colab": {
      "name": "Chap2_06_NaiveBayes.ipynb",
      "provenance": [],
      "authorship_tag": "ABX9TyOHTcP6DivVlTdWhb1iC9I/",
      "include_colab_link": true
    },
    "kernelspec": {
      "name": "python3",
      "display_name": "Python 3"
    }
  },
  "cells": [
    {
      "cell_type": "markdown",
      "metadata": {
        "id": "view-in-github",
        "colab_type": "text"
      },
      "source": [
        "<a href=\"https://colab.research.google.com/github/zfukuoka/Training-KikaiGakusyuZukan/blob/master/Chap2_06_NaiveBayes.ipynb\" target=\"_parent\"><img src=\"https://colab.research.google.com/assets/colab-badge.svg\" alt=\"Open In Colab\"/></a>"
      ]
    },
    {
      "cell_type": "code",
      "metadata": {
        "id": "2S7kYc2qcqYa",
        "colab_type": "code",
        "colab": {
          "base_uri": "https://localhost:8080/",
          "height": 34
        },
        "outputId": "57aee060-5f0a-4267-81de-2d3e88b22548"
      },
      "source": [
        "from sklearn.naive_bayes import MultinomialNB\n",
        "\n",
        "# データ生成\n",
        "X_train = [[1,1,0,0,0,0,0,0,0,0,0],\n",
        "           [0,1,1,1,0,0,0,0,0,0,0],\n",
        "           [1,0,0,0,1,1,0,0,0,0,0],\n",
        "           [0,0,0,0,0,0,1,1,0,0,0],\n",
        "           [0,0,0,0,0,0,0,1,1,1,0],\n",
        "           [0,0,0,0,0,1,0,1,1,0,1]]\n",
        "y_train = [1,1,1,0,0,0]\n",
        "model = MultinomialNB()\n",
        "model.fit(X_train, y_train)\n",
        "model.predict([[0,1,0,1,0,1,0,0,0,0,0]])"
      ],
      "execution_count": 2,
      "outputs": [
        {
          "output_type": "execute_result",
          "data": {
            "text/plain": [
              "array([1])"
            ]
          },
          "metadata": {
            "tags": []
          },
          "execution_count": 2
        }
      ]
    }
  ]
}