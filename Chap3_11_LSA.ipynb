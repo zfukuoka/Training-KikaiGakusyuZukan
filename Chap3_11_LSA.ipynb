{
  "nbformat": 4,
  "nbformat_minor": 0,
  "metadata": {
    "colab": {
      "name": "Chap3_11_LSA.ipynb",
      "provenance": [],
      "authorship_tag": "ABX9TyOUtf3EBEEyQ0TotCffNP1Y",
      "include_colab_link": true
    },
    "kernelspec": {
      "name": "python3",
      "display_name": "Python 3"
    }
  },
  "cells": [
    {
      "cell_type": "markdown",
      "metadata": {
        "id": "view-in-github",
        "colab_type": "text"
      },
      "source": [
        "<a href=\"https://colab.research.google.com/github/zfukuoka/Training-KikaiGakusyuZukan/blob/master/Chap3_11_LSA.ipynb\" target=\"_parent\"><img src=\"https://colab.research.google.com/assets/colab-badge.svg\" alt=\"Open In Colab\"/></a>"
      ]
    },
    {
      "cell_type": "markdown",
      "metadata": {
        "id": "bnnlrqPontGi",
        "colab_type": "text"
      },
      "source": [
        "# 第3章 教師なし学習\n",
        "\n",
        "## 11 LSA(Latent Semantic Analysis)\n",
        "\n",
        "ポイント\n",
        "\n",
        "* PCAと同じく次元圧縮ではあるもの、NLPを主体としている\n",
        "* 言語と言っても必ずインデックスに置き換えのは前提\n",
        "* 自然言語で同じものの別の言い回しのようなものを特徴としてまとめることができるらしい\n",
        "\n",
        "コードのdata変数は、文章1～4とあってその中に含まれる言葉を0（なし）と1（あり）で表したもの。\n",
        "\n",
        "|  | 文章1 | 文章2 | 文章3 | 文章4 |\n",
        "| ---- | ---- | ---- | ---- | ---- |\n",
        "| 自動車     |1 |0 |0 |0 |\n",
        "| 会社       |1 |0 |0 |0 |\n",
        "| 行く       |1 |1 |0 |0 |\n",
        "| 車         |0 |1 |0 |0 |\n",
        "| レストラン |0 |0 |1 |1 |\n",
        "| ハンバーグ |0 |0 |1 |0 |\n",
        "| 食べる     |0 |0 |1 |1 |\n",
        "| パスタ     |0 |0 |0 |1 |\n",
        "\n"
      ]
    },
    {
      "cell_type": "code",
      "metadata": {
        "id": "6uXOytMummBh",
        "colab_type": "code",
        "outputId": "ed010ae9-67b7-4771-8aab-88f30a1f3b0c",
        "colab": {
          "base_uri": "https://localhost:8080/",
          "height": 187
        }
      },
      "source": [
        "from sklearn.decomposition import TruncatedSVD\n",
        "\n",
        "data = [\n",
        "        [1,0,0,0],\n",
        "        [1,0,0,0],\n",
        "        [1,1,0,0],\n",
        "        [0,1,0,0],\n",
        "        [0,0,1,1],\n",
        "        [0,0,1,0],\n",
        "        [0,0,1,1],\n",
        "        [0,0,0,1]\n",
        "]\n",
        "\n",
        "n_components = 2 # 潜在変数の数\n",
        "model = TruncatedSVD(n_components=n_components)\n",
        "model.fit(data)\n",
        "\n",
        "print(model.transform(data))\n",
        "print(model.explained_variance_ratio_)\n",
        "print(sum(model.explained_variance_ratio_))"
      ],
      "execution_count": 1,
      "outputs": [
        {
          "output_type": "stream",
          "text": [
            "[[ 0.00000000e+00  8.50650808e-01]\n",
            " [ 0.00000000e+00  8.50650808e-01]\n",
            " [-1.35973996e-15  1.37638192e+00]\n",
            " [-1.35973996e-15  5.25731112e-01]\n",
            " [ 1.41421356e+00  1.01096131e-15]\n",
            " [ 7.07106781e-01  6.06576787e-16]\n",
            " [ 1.41421356e+00  1.01096131e-15]\n",
            " [ 7.07106781e-01  4.04384525e-16]]\n",
            "[0.38596491 0.27999429]\n",
            "0.665959206583328\n"
          ],
          "name": "stdout"
        }
      ]
    },
    {
      "cell_type": "markdown",
      "metadata": {
        "id": "Rct_aDZcMXJJ",
        "colab_type": "text"
      },
      "source": [
        "またしても、上記のサンプルコードだけではよくわからないので、可視化する。\n",
        "結局、潜在的な意味空間で表した単語の特徴量は、 model.transform() の結果に入っている。\n",
        "そうすると本の中にもあった表が下記のように表示できる\n"
      ]
    },
    {
      "cell_type": "code",
      "metadata": {
        "id": "tBY-if_cJVVn",
        "colab_type": "code",
        "colab": {
          "base_uri": "https://localhost:8080/",
          "height": 297
        },
        "outputId": "a3cb6e40-782e-48bb-9e20-abc8c5af8d89"
      },
      "source": [
        "import pandas as pd\n",
        "\n",
        "pd.options.display.float_format = '{:.2f}'.format\n",
        "X = pd.DataFrame(model.transform(data))\n",
        "X"
      ],
      "execution_count": 6,
      "outputs": [
        {
          "output_type": "execute_result",
          "data": {
            "text/html": [
              "<div>\n",
              "<style scoped>\n",
              "    .dataframe tbody tr th:only-of-type {\n",
              "        vertical-align: middle;\n",
              "    }\n",
              "\n",
              "    .dataframe tbody tr th {\n",
              "        vertical-align: top;\n",
              "    }\n",
              "\n",
              "    .dataframe thead th {\n",
              "        text-align: right;\n",
              "    }\n",
              "</style>\n",
              "<table border=\"1\" class=\"dataframe\">\n",
              "  <thead>\n",
              "    <tr style=\"text-align: right;\">\n",
              "      <th></th>\n",
              "      <th>0</th>\n",
              "      <th>1</th>\n",
              "    </tr>\n",
              "  </thead>\n",
              "  <tbody>\n",
              "    <tr>\n",
              "      <th>0</th>\n",
              "      <td>0.00</td>\n",
              "      <td>0.85</td>\n",
              "    </tr>\n",
              "    <tr>\n",
              "      <th>1</th>\n",
              "      <td>0.00</td>\n",
              "      <td>0.85</td>\n",
              "    </tr>\n",
              "    <tr>\n",
              "      <th>2</th>\n",
              "      <td>-0.00</td>\n",
              "      <td>1.38</td>\n",
              "    </tr>\n",
              "    <tr>\n",
              "      <th>3</th>\n",
              "      <td>-0.00</td>\n",
              "      <td>0.53</td>\n",
              "    </tr>\n",
              "    <tr>\n",
              "      <th>4</th>\n",
              "      <td>1.41</td>\n",
              "      <td>0.00</td>\n",
              "    </tr>\n",
              "    <tr>\n",
              "      <th>5</th>\n",
              "      <td>0.71</td>\n",
              "      <td>0.00</td>\n",
              "    </tr>\n",
              "    <tr>\n",
              "      <th>6</th>\n",
              "      <td>1.41</td>\n",
              "      <td>0.00</td>\n",
              "    </tr>\n",
              "    <tr>\n",
              "      <th>7</th>\n",
              "      <td>0.71</td>\n",
              "      <td>0.00</td>\n",
              "    </tr>\n",
              "  </tbody>\n",
              "</table>\n",
              "</div>"
            ],
            "text/plain": [
              "      0    1\n",
              "0  0.00 0.85\n",
              "1  0.00 0.85\n",
              "2 -0.00 1.38\n",
              "3 -0.00 0.53\n",
              "4  1.41 0.00\n",
              "5  0.71 0.00\n",
              "6  1.41 0.00\n",
              "7  0.71 0.00"
            ]
          },
          "metadata": {
            "tags": []
          },
          "execution_count": 6
        }
      ]
    }
  ]
}