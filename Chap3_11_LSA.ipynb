{
  "nbformat": 4,
  "nbformat_minor": 0,
  "metadata": {
    "colab": {
      "name": "Chap3_11_LSA.ipynb",
      "provenance": [],
      "authorship_tag": "ABX9TyN7msxEHt0CeFRRnpK103jP",
      "include_colab_link": true
    },
    "kernelspec": {
      "name": "python3",
      "display_name": "Python 3"
    }
  },
  "cells": [
    {
      "cell_type": "markdown",
      "metadata": {
        "id": "view-in-github",
        "colab_type": "text"
      },
      "source": [
        "<a href=\"https://colab.research.google.com/github/zfukuoka/Training-KikaiGakusyuZukan/blob/master/Chap3_11_LSA.ipynb\" target=\"_parent\"><img src=\"https://colab.research.google.com/assets/colab-badge.svg\" alt=\"Open In Colab\"/></a>"
      ]
    },
    {
      "cell_type": "markdown",
      "metadata": {
        "id": "bnnlrqPontGi",
        "colab_type": "text"
      },
      "source": [
        "# 第3章 教師なし学習\n",
        "\n",
        "## 11 LSA(Latent Semantic Analysis)\n",
        "\n",
        "ポイント\n",
        "\n",
        "* PCAと同じく次元圧縮ではあるもの、NLPを主体としている\n",
        "* 言語と言っても必ずインデックスに置き換えのは前提\n",
        "* 自然言語で同じものの別の言い回しのようなものを特徴としてまとめることができるらしい\n",
        "\n",
        "コードのdata変数は、文章1～4とあってその中に含まれる言葉を0（なし）と1（あり）で表したもの。\n",
        "\n",
        "|  | 文章1 | 文章2 | 文章3 | 文章4 |\n",
        "| ---- | ---- | ---- | ---- | ---- |\n",
        "| 自動車     |1 |0 |0 |0 |\n",
        "| 会社       |1 |0 |0 |0 |\n",
        "| 行く       |1 |1 |0 |0 |\n",
        "| 車         |0 |1 |0 |0 |\n",
        "| レストラン |0 |0 |1 |1 |\n",
        "| ハンバーグ |0 |0 |1 |0 |\n",
        "| 食べる     |0 |0 |1 |1 |\n",
        "| パスタ     |0 |0 |0 |1 |\n",
        "\n"
      ]
    },
    {
      "cell_type": "code",
      "metadata": {
        "id": "6uXOytMummBh",
        "colab_type": "code",
        "outputId": "aadfce8f-26c0-405f-df7d-836817f6a57c",
        "colab": {
          "base_uri": "https://localhost:8080/",
          "height": 187
        }
      },
      "source": [
        "from sklearn.decomposition import TruncatedSVD\n",
        "\n",
        "data = [\n",
        "        [1,0,0,0],\n",
        "        [1,0,0,0],\n",
        "        [1,1,0,0],\n",
        "        [0,1,0,0],\n",
        "        [0,0,1,1],\n",
        "        [0,0,1,0],\n",
        "        [0,0,1,1],\n",
        "        [0,0,0,1]\n",
        "]\n",
        "\n",
        "n_components = 2 # 潜在変数の数\n",
        "model = TruncatedSVD(n_components=n_components)\n",
        "model.fit(data)\n",
        "\n",
        "print(model.transform(data))\n",
        "print(model.explained_variance_ratio_)\n",
        "print(sum(model.explained_variance_ratio_))"
      ],
      "execution_count": 0,
      "outputs": [
        {
          "output_type": "stream",
          "text": [
            "[[ 0.00000000e+00  8.50650808e-01]\n",
            " [ 0.00000000e+00  8.50650808e-01]\n",
            " [ 8.15843973e-16  1.37638192e+00]\n",
            " [ 8.15843973e-16  5.25731112e-01]\n",
            " [ 1.41421356e+00 -6.06576787e-16]\n",
            " [ 7.07106781e-01 -4.04384525e-16]\n",
            " [ 1.41421356e+00 -6.06576787e-16]\n",
            " [ 7.07106781e-01 -2.02192262e-16]]\n",
            "[0.38596491 0.27999429]\n",
            "0.665959206583329\n"
          ],
          "name": "stdout"
        }
      ]
    }
  ]
}