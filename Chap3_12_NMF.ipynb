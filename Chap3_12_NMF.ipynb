{
  "nbformat": 4,
  "nbformat_minor": 0,
  "metadata": {
    "colab": {
      "name": "Chap3_12_NMF.ipynb",
      "provenance": [],
      "authorship_tag": "ABX9TyMWzEGgaMIj3wa/wukrWXlR",
      "include_colab_link": true
    },
    "kernelspec": {
      "name": "python3",
      "display_name": "Python 3"
    }
  },
  "cells": [
    {
      "cell_type": "markdown",
      "metadata": {
        "id": "view-in-github",
        "colab_type": "text"
      },
      "source": [
        "<a href=\"https://colab.research.google.com/github/zfukuoka/Training-KikaiGakusyuZukan/blob/master/Chap3_12_NMF.ipynb\" target=\"_parent\"><img src=\"https://colab.research.google.com/assets/colab-badge.svg\" alt=\"Open In Colab\"/></a>"
      ]
    },
    {
      "cell_type": "markdown",
      "metadata": {
        "id": "UwgilBJoSO9I",
        "colab_type": "text"
      },
      "source": [
        "# 第3章 教師なし学習\n",
        "\n",
        "## 12 NMF(Non-negative Matrix Factorization)\n",
        "\n",
        "ポイント\n",
        "* 次元削減手法\n",
        "* 特徴\n",
        "  * 元の行列の要素が非負である\n",
        "  * 分解後の行列の要素が非負である\n",
        "  * 潜在意味空間の各次元が直行するという制約をもたない\n",
        "* 上記特徴から上げられる利点\n",
        "  * 分析結果が解釈しやすい\n",
        "    * 文章データに適用した際に文章の潜在変数の足し算で表現できるので、例えば、ある文章が持っているトピックという観点で数値化すると、下記の前者の方が分かりやすい\n",
        "      * トピックA ⇒ 0.5、トピックB ⇒ 0.3\n",
        "      * トピックA ⇒ -0.3、トピックB ⇒ 0.6\n",
        "    * 潜在変数が直行する制約がないため、各潜在変数がある程度重複した情報を持つ\n",
        "\n"
      ]
    },
    {
      "cell_type": "code",
      "metadata": {
        "id": "BxIkG5fLSOJp",
        "colab_type": "code",
        "colab": {
          "base_uri": "https://localhost:8080/",
          "height": 1000
        },
        "outputId": "879b9880-52b7-4076-cc41-f92e04700be0"
      },
      "source": [
        "from sklearn.decomposition import NMF\n",
        "from sklearn.datasets.samples_generator import make_blobs\n",
        "\n",
        "centers = [[5, 10, 5], [10, 4, 10], [6, 8, 8]]\n",
        "V, _ = make_blobs(centers=centers)\n",
        "\n",
        "n_components = 2  # 潜在変数の数\n",
        "model = NMF(n_components=n_components)\n",
        "model.fit(V)\n",
        "\n",
        "W = model.transform(V)  # 分解後の行列\n",
        "H = model.components_\n",
        "print(W)\n",
        "print(H)"
      ],
      "execution_count": 1,
      "outputs": [
        {
          "output_type": "stream",
          "text": [
            "[[0.88095938 0.66611239]\n",
            " [0.81598402 0.9425787 ]\n",
            " [1.46978294 0.33632267]\n",
            " [0.61889288 1.01913888]\n",
            " [0.70657816 0.99897435]\n",
            " [1.44672991 0.13234172]\n",
            " [0.8388849  0.9108666 ]\n",
            " [0.56061624 1.07222427]\n",
            " [0.520874   1.17054127]\n",
            " [0.73060851 0.9869461 ]\n",
            " [0.94958577 0.69263033]\n",
            " [0.61570493 1.07066036]\n",
            " [1.28570604 0.1710786 ]\n",
            " [1.2744498  0.23494137]\n",
            " [0.81886743 0.90379999]\n",
            " [0.59685574 1.03863118]\n",
            " [0.75563965 0.57641919]\n",
            " [1.38299359 0.16466452]\n",
            " [0.82685793 0.78205135]\n",
            " [1.38937589 0.04268052]\n",
            " [0.52562531 1.22381643]\n",
            " [0.79483471 0.84299298]\n",
            " [1.02113329 0.7513524 ]\n",
            " [1.24192311 0.3556091 ]\n",
            " [0.9685974  0.73229672]\n",
            " [1.05635166 0.55732628]\n",
            " [0.68671459 1.12561318]\n",
            " [1.54184503 0.21034267]\n",
            " [1.24016627 0.41076129]\n",
            " [0.92471509 0.75182635]\n",
            " [0.52916945 0.92183538]\n",
            " [0.64261947 0.99706971]\n",
            " [1.30448167 0.49346359]\n",
            " [1.27298646 0.30501194]\n",
            " [0.65507203 1.04331846]\n",
            " [1.42714822 0.39125736]\n",
            " [1.3266923  0.20564522]\n",
            " [0.84811512 0.71219053]\n",
            " [0.97465927 0.64036815]\n",
            " [0.61679487 1.08852123]\n",
            " [0.85088814 0.78823183]\n",
            " [0.6373174  1.04880018]\n",
            " [0.69103535 0.97824333]\n",
            " [1.38007547 0.25513251]\n",
            " [0.59540717 1.02065018]\n",
            " [1.28343655 0.23553709]\n",
            " [0.94700874 0.63203745]\n",
            " [0.94476129 0.72542712]\n",
            " [1.23784595 0.19111767]\n",
            " [0.60414047 0.94556099]\n",
            " [1.42177772 0.10338556]\n",
            " [1.31241568 0.30601784]\n",
            " [0.91638133 0.74551699]\n",
            " [0.71107214 0.85724146]\n",
            " [0.626038   1.09484838]\n",
            " [0.85789983 0.66708711]\n",
            " [1.17917039 0.15403373]\n",
            " [1.43754405 0.39733718]\n",
            " [0.57647333 1.1711287 ]\n",
            " [1.12335681 0.83960752]\n",
            " [0.60490448 0.96421467]\n",
            " [1.26040731 0.4210859 ]\n",
            " [1.12742014 0.81937718]\n",
            " [1.33028306 0.30689544]\n",
            " [1.3062486  0.13039325]\n",
            " [1.04565762 0.62539087]\n",
            " [1.31953371 0.        ]\n",
            " [0.54976037 1.01742951]\n",
            " [0.88779549 0.77801411]\n",
            " [1.11594881 0.70941996]\n",
            " [1.35872072 0.18354804]\n",
            " [1.41005671 0.28108524]\n",
            " [1.38295941 0.23504869]\n",
            " [0.64449503 0.80717471]\n",
            " [0.78935803 0.97921273]\n",
            " [0.81771291 0.73315206]\n",
            " [1.01201969 0.58194776]\n",
            " [0.84996051 0.61109569]\n",
            " [0.82004715 0.89924059]\n",
            " [1.358379   0.34831538]\n",
            " [1.43842886 0.3439912 ]\n",
            " [1.12272933 0.84217927]\n",
            " [1.17397701 0.15183071]\n",
            " [1.41561219 0.26434267]\n",
            " [1.00344848 0.72591132]\n",
            " [1.09086476 0.83095138]\n",
            " [1.18012882 0.09451624]\n",
            " [1.0606963  0.79212202]\n",
            " [0.67552255 0.79868325]\n",
            " [0.97188481 0.80116421]\n",
            " [0.93634027 0.62102292]\n",
            " [0.58458986 1.05316154]\n",
            " [1.37801125 0.04389   ]\n",
            " [0.58836305 0.93680715]\n",
            " [0.98213267 0.50980775]\n",
            " [0.7738803  0.92675931]\n",
            " [0.66348853 1.00149337]\n",
            " [0.60616495 1.07077517]\n",
            " [0.91966765 0.79276794]\n",
            " [0.64665344 0.8723543 ]]\n",
            "[[7.17927614 1.48669449 7.80181103]\n",
            " [0.         9.1643733  0.02465932]]\n"
          ],
          "name": "stdout"
        },
        {
          "output_type": "stream",
          "text": [
            "/usr/local/lib/python3.6/dist-packages/sklearn/utils/deprecation.py:144: FutureWarning: The sklearn.datasets.samples_generator module is  deprecated in version 0.22 and will be removed in version 0.24. The corresponding classes / functions should instead be imported from sklearn.datasets. Anything that cannot be imported from sklearn.datasets is now part of the private API.\n",
            "  warnings.warn(message, FutureWarning)\n"
          ],
          "name": "stderr"
        }
      ]
    },
    {
      "cell_type": "markdown",
      "metadata": {
        "id": "f4qwXccSLxOn",
        "colab_type": "text"
      },
      "source": [
        "上記のサンプルだけではわかりにくいので、本に書いてあったように PCAで同じ２分割 の結果で比較してみる。\n",
        "\n",
        "\n"
      ]
    },
    {
      "cell_type": "code",
      "metadata": {
        "id": "NSTnDA73MEAd",
        "colab_type": "code",
        "colab": {
          "base_uri": "https://localhost:8080/",
          "height": 479
        },
        "outputId": "6abd17f4-5ac2-4c4b-b2ef-33243e81be1d"
      },
      "source": [
        "from sklearn.decomposition import PCA\n",
        "\n",
        "model2 = PCA(n_components=n_components)\n",
        "model2 = model2.fit(V)\n",
        "result = model2.transform(V)\n",
        "\n",
        "import matplotlib.pyplot as plt\n",
        "fig = plt.figure(figsize=(15,7))\n",
        "ax1 = fig.add_subplot(1,2,1)\n",
        "ax2 = fig.add_subplot(1,2,2)\n",
        "\n",
        "ax1.plot(W[0:,0], W[0:,1], 'r+', label=\"NMF\")\n",
        "ax2.plot(result[0:,0], result[0:,1], 'bo', label=\"PCA\")\n",
        "ax1.legend()\n",
        "ax2.legend()\n",
        "fig.show()\n",
        "\n",
        "print(\"shape(V):\", V.shape)\n",
        "print(\"shape(PCA): \", result.shape)\n",
        "print(\"shape(NMF): \", W.shape)"
      ],
      "execution_count": 12,
      "outputs": [
        {
          "output_type": "stream",
          "text": [
            "shape(V): (100, 3)\n",
            "shape(PCA):  (100, 2)\n",
            "shape(NMF):  (100, 2)\n"
          ],
          "name": "stdout"
        },
        {
          "output_type": "display_data",
          "data": {
            "image/png": "[encoded data removed]",
            "text/plain": [
              "<Figure size 1080x504 with 2 Axes>"
            ]
          },
          "metadata": {
            "tags": [],
            "needs_background": "light"
          }
        }
      ]
    }
  ]
}