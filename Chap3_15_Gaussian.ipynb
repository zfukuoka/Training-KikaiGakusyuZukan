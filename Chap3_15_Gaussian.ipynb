{
  "nbformat": 4,
  "nbformat_minor": 0,
  "metadata": {
    "colab": {
      "name": "Chap3_15_Gaussian.ipynb",
      "provenance": [],
      "authorship_tag": "ABX9TyOt62tPplkxWWMrvC7dWikL",
      "include_colab_link": true
    },
    "kernelspec": {
      "name": "python3",
      "display_name": "Python 3"
    }
  },
  "cells": [
    {
      "cell_type": "markdown",
      "metadata": {
        "id": "view-in-github",
        "colab_type": "text"
      },
      "source": [
        "<a href=\"https://colab.research.google.com/github/zfukuoka/Training-KikaiGakusyuZukan/blob/master/Chap3_15_Gaussian.ipynb\" target=\"_parent\"><img src=\"https://colab.research.google.com/assets/colab-badge.svg\" alt=\"Open In Colab\"/></a>"
      ]
    },
    {
      "cell_type": "markdown",
      "metadata": {
        "id": "qB9NDPKQcTud",
        "colab_type": "text"
      },
      "source": [
        "# 第3章 教師なし学習\n",
        "\n",
        "## 15 混合ガウス分布\n"
      ]
    },
    {
      "cell_type": "code",
      "metadata": {
        "id": "GwFGw1NRcG19",
        "colab_type": "code",
        "colab": {
          "base_uri": "https://localhost:8080/",
          "height": 391
        },
        "outputId": "82d75c1b-ec5e-466b-fad9-a3fc45e87c61"
      },
      "source": [
        "from sklearn.datasets import load_iris\n",
        "from sklearn.mixture import GaussianMixture\n",
        "\n",
        "data = load_iris()\n",
        "\n",
        "n_components = 3  # ガウス分布の数\n",
        "model = GaussianMixture(n_components=n_components)\n",
        "model.fit(data.data)\n",
        "print(model.predict(data.data)) # クラスを予測\n",
        "print(model.means_) # 各ガウス分布の平均\n",
        "print(model.covariances_) # 各ガウス分布の分散"
      ],
      "execution_count": 2,
      "outputs": [
        {
          "output_type": "stream",
          "text": [
            "[0 0 0 0 0 0 0 0 0 0 0 0 0 0 0 0 0 0 0 0 0 0 0 0 0 0 0 0 0 0 0 0 0 0 0 0 0\n",
            " 0 0 0 0 0 0 0 0 0 0 0 0 0 1 1 1 1 1 1 1 1 1 1 1 1 1 1 1 1 1 1 2 1 2 1 2 1\n",
            " 1 1 1 2 1 1 1 1 1 2 1 1 1 1 1 1 1 1 1 1 1 1 1 1 1 1 2 2 2 2 2 2 2 2 2 2 2\n",
            " 2 2 2 2 2 2 2 2 2 2 2 2 2 2 2 2 2 2 2 2 2 2 2 2 2 2 2 2 2 2 2 2 2 2 2 2 2\n",
            " 2 2]\n",
            "[[5.006      3.428      1.462      0.246     ]\n",
            " [5.91697517 2.77803998 4.20523542 1.29841561]\n",
            " [6.54632887 2.94943079 5.4834877  1.98716063]]\n",
            "[[[0.121765   0.097232   0.016028   0.010124  ]\n",
            "  [0.097232   0.140817   0.011464   0.009112  ]\n",
            "  [0.016028   0.011464   0.029557   0.005948  ]\n",
            "  [0.010124   0.009112   0.005948   0.010885  ]]\n",
            "\n",
            " [[0.27550587 0.09663458 0.18542939 0.05476915]\n",
            "  [0.09663458 0.09255531 0.09103836 0.04299877]\n",
            "  [0.18542939 0.09103836 0.20227635 0.0616792 ]\n",
            "  [0.05476915 0.04299877 0.0616792  0.03232217]]\n",
            "\n",
            " [[0.38741443 0.09223101 0.30244612 0.06089936]\n",
            "  [0.09223101 0.11040631 0.08386768 0.0557538 ]\n",
            "  [0.30244612 0.08386768 0.32595958 0.07283247]\n",
            "  [0.06089936 0.0557538  0.07283247 0.08488025]]]\n"
          ],
          "name": "stdout"
        }
      ]
    }
  ]
}