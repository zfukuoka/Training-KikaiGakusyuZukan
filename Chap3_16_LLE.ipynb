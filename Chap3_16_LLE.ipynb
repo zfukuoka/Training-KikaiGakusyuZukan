{
  "nbformat": 4,
  "nbformat_minor": 0,
  "metadata": {
    "colab": {
      "name": "Chap13_16_LLE.ipynb",
      "provenance": [],
      "collapsed_sections": [],
      "authorship_tag": "ABX9TyO2c61PwA5iHLF6Prqqjnfs",
      "include_colab_link": true
    },
    "kernelspec": {
      "name": "python3",
      "display_name": "Python 3"
    }
  },
  "cells": [
    {
      "cell_type": "markdown",
      "metadata": {
        "id": "view-in-github",
        "colab_type": "text"
      },
      "source": [
        "<a href=\"https://colab.research.google.com/github/zfukuoka/Training-KikaiGakusyuZukan/blob/master/Chap13_16_LLE.ipynb\" target=\"_parent\"><img src=\"https://colab.research.google.com/assets/colab-badge.svg\" alt=\"Open In Colab\"/></a>"
      ]
    },
    {
      "cell_type": "markdown",
      "metadata": {
        "id": "8fYkzbyucxee",
        "colab_type": "text"
      },
      "source": [
        "# 第3章 教師なし学習\n",
        "\n",
        "## 16 LLE(Local Linear Embedding)"
      ]
    },
    {
      "cell_type": "code",
      "metadata": {
        "id": "NV7evAchcvDL",
        "colab_type": "code",
        "outputId": "bd7bed1f-4acf-40d3-b85f-af185ea02cc9",
        "colab": {
          "base_uri": "https://localhost:8080/",
          "height": 136
        }
      },
      "source": [
        "from sklearn.datasets import samples_generator\n",
        "from sklearn.manifold import LocallyLinearEmbedding\n",
        "\n",
        "data, color = samples_generator.make_swiss_roll(n_samples=1500)\n",
        "\n",
        "n_neighbors = 12  # 近傍点の数\n",
        "n_components = 2  # 削除後の次元数\n",
        "model = LocallyLinearEmbedding(n_neighbors=n_neighbors, n_components=n_components)\n",
        "model.fit(data)\n",
        "print(model.transform(data))  # 変換したデータ"
      ],
      "execution_count": 0,
      "outputs": [
        {
          "output_type": "stream",
          "text": [
            "[[-0.02890749  0.00232007]\n",
            " [ 0.02052634  0.00822861]\n",
            " [ 0.03112719 -0.00888743]\n",
            " ...\n",
            " [-0.0135684  -0.0113645 ]\n",
            " [-0.04452564  0.0006457 ]\n",
            " [ 0.03352724  0.00251584]]\n"
          ],
          "name": "stdout"
        }
      ]
    }
  ]
}