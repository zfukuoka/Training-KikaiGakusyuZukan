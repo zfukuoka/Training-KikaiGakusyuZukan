{
  "nbformat": 4,
  "nbformat_minor": 0,
  "metadata": {
    "colab": {
      "name": "Chap13_17_tSNE.ipynb",
      "provenance": [],
      "authorship_tag": "ABX9TyPEqqIMvHnK2AQtnJqbE+WX",
      "include_colab_link": true
    },
    "kernelspec": {
      "name": "python3",
      "display_name": "Python 3"
    }
  },
  "cells": [
    {
      "cell_type": "markdown",
      "metadata": {
        "id": "view-in-github",
        "colab_type": "text"
      },
      "source": [
        "<a href=\"https://colab.research.google.com/github/zfukuoka/Training-KikaiGakusyuZukan/blob/master/Chap13_17_tSNE.ipynb\" target=\"_parent\"><img src=\"https://colab.research.google.com/assets/colab-badge.svg\" alt=\"Open In Colab\"/></a>"
      ]
    },
    {
      "cell_type": "markdown",
      "metadata": {
        "id": "A9yQS1coYp9o",
        "colab_type": "text"
      },
      "source": [
        "# 第3章 教師なし学習\n",
        "\n",
        "## 17 t-SNE"
      ]
    },
    {
      "cell_type": "code",
      "metadata": {
        "id": "dv1c9iciYd7h",
        "colab_type": "code",
        "colab": {
          "base_uri": "https://localhost:8080/",
          "height": 136
        },
        "outputId": "958d3582-ea02-4ce5-a5cc-f4016033dca5"
      },
      "source": [
        "from sklearn.manifold import TSNE\n",
        "from sklearn.datasets import load_digits\n",
        "\n",
        "data = load_digits()\n",
        "n_components = 2  # 削減後の次元を2に設定\n",
        "model = TSNE(n_components=n_components)\n",
        "\n",
        "print(model.fit_transform(data.data))"
      ],
      "execution_count": 2,
      "outputs": [
        {
          "output_type": "stream",
          "text": [
            "[[-64.92625     10.280534  ]\n",
            " [  6.1986938  -26.0191    ]\n",
            " [-11.451329   -11.885521  ]\n",
            " ...\n",
            " [ -1.2296563   -5.697193  ]\n",
            " [-13.632302    31.265972  ]\n",
            " [ -5.0202146   -0.24417566]]\n"
          ],
          "name": "stdout"
        }
      ]
    }
  ]
}
